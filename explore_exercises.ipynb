{
 "cells": [
  {
   "cell_type": "markdown",
   "id": "84079135",
   "metadata": {},
   "source": [
    "#### Explore Spark Exercises\n",
    "\n",
    "These exercises should go in a notebook or script named `explore`. \n",
    "\n",
    "Answer the questions below by using a combination of the techniques discussed in the lesson that you think is appropriate."
   ]
  },
  {
   "cell_type": "code",
   "execution_count": 152,
   "id": "99752eb2",
   "metadata": {},
   "outputs": [],
   "source": [
    "import pyspark.sql\n",
    "import numpy as np\n",
    "import pandas as pd\n",
    "\n",
    "%matplotlib inline\n",
    "import matplotlib.pyplot as plt\n",
    "import seaborn as sns\n",
    "\n",
    "import warnings\n",
    "warnings.filterwarnings(\"ignore\")\n",
    "\n",
    "import wrangle\n",
    "\n",
    "from pyspark.sql import SparkSession\n",
    "from pyspark.sql.functions import *\n",
    "\n",
    "spark = SparkSession.builder.getOrCreate()\n",
    "\n",
    "plt.rc('figure', figsize = (13, 7))\n",
    "plt.style.use('seaborn-whitegrid')\n",
    "plt.rc('font', size = 12)"
   ]
  },
  {
   "cell_type": "code",
   "execution_count": 6,
   "id": "d2bab524",
   "metadata": {
    "scrolled": false
   },
   "outputs": [
    {
     "name": "stdout",
     "output_type": "stream",
     "text": [
      "[wrangle.py] reading case.csv\n"
     ]
    },
    {
     "name": "stderr",
     "output_type": "stream",
     "text": [
      "                                                                                \r"
     ]
    },
    {
     "name": "stdout",
     "output_type": "stream",
     "text": [
      "[wrangle.py] handling data types\n",
      "[wrangle.py] parsing dates\n",
      "[wrangle.py] adding features\n"
     ]
    },
    {
     "name": "stderr",
     "output_type": "stream",
     "text": [
      "                                                                                \r"
     ]
    },
    {
     "name": "stdout",
     "output_type": "stream",
     "text": [
      "[wrangle.py] joining departments\n",
      "-RECORD 0----------------------------------------------------\n",
      " case_id              | 1014127332                           \n",
      " case_opened_date     | 2018-01-01 00:42:00                  \n",
      " case_closed_date     | 2018-01-01 12:29:00                  \n",
      " case_due_date        | 2020-09-26 00:42:00                  \n",
      " case_late            | false                                \n",
      " num_days_late        | -998.5087616000001                   \n",
      " case_closed          | true                                 \n",
      " service_request_type | Stray Animal                         \n",
      " SLA_days             | 999.0                                \n",
      " case_status          | Closed                               \n",
      " source_id            | svcCRMLS                             \n",
      " request_address      | 2315  EL PASO ST, San Antonio, 78207 \n",
      " council_district     | 005                                  \n",
      " num_weeks_late       | -142.6441088                         \n",
      " zipcode              | 78207                                \n",
      " case_age             | 219                                  \n",
      " days_to_closed       | 0                                    \n",
      " case_lifetime        | 0                                    \n",
      " department           | Animal Care Services                 \n",
      " dept_subject_to_SLA  | true                                 \n",
      "only showing top 1 row\n",
      "\n"
     ]
    }
   ],
   "source": [
    "df = wrangle.wrangle_311(spark)\n",
    "df.show(1, vertical = True, truncate = False)"
   ]
  },
  {
   "cell_type": "markdown",
   "id": "80fb6b26",
   "metadata": {},
   "source": [
    "- How many different cases are there, by department?\n",
    "    - Solid Waste has 56 different cases\n",
    "    - Animal Care Services has 14 different cases\n",
    "    - Trans & Cap Improvements has 81 different cases\n",
    "    - Parks & Recreation has 44 different cases\n",
    "    - Customer Service has 2 different cases\n",
    "    - Metro Health has 14 different cases\n",
    "    - City Council has 2 different cases\n",
    "    - DSD/Code Enforcement has 122 different cases"
   ]
  },
  {
   "cell_type": "code",
   "execution_count": 59,
   "id": "00cadbd7",
   "metadata": {},
   "outputs": [
    {
     "name": "stdout",
     "output_type": "stream",
     "text": [
      "+------------------------+------------------------+\n",
      "|department              |distinct number of cases|\n",
      "+------------------------+------------------------+\n",
      "|Solid Waste             |56                      |\n",
      "|Animal Care Services    |14                      |\n",
      "|Trans & Cap Improvements|81                      |\n",
      "|Parks & Recreation      |44                      |\n",
      "|Customer Service        |2                       |\n",
      "|Metro Health            |14                      |\n",
      "|City Council            |2                       |\n",
      "|DSD/Code Enforcement    |122                     |\n",
      "+------------------------+------------------------+\n",
      "\n"
     ]
    },
    {
     "name": "stderr",
     "output_type": "stream",
     "text": [
      "\r",
      "[Stage 236:============================>                           (6 + 6) / 12]\r",
      "\r",
      "                                                                                \r"
     ]
    }
   ],
   "source": [
    "(df.groupBy('department')\n",
    " # countDistinct counts each unique case rather than all cases\n",
    " .agg(countDistinct('service_request_type')\n",
    " .alias('distinct number of cases')).show(truncate = False))"
   ]
  },
  {
   "cell_type": "code",
   "execution_count": 156,
   "id": "d764d813",
   "metadata": {},
   "outputs": [
    {
     "name": "stderr",
     "output_type": "stream",
     "text": [
      "                                                                                \r"
     ]
    },
    {
     "data": {
      "image/png": "[encoded data removed]",
      "text/plain": [
       "<Figure size 1008x576 with 1 Axes>"
      ]
     },
     "metadata": {},
     "output_type": "display_data"
    }
   ],
   "source": [
    "(df.groupBy('department')\n",
    " .agg(countDistinct('service_request_type').alias('Count of Distinct Cases'))\n",
    " .toPandas()\n",
    " .set_index('department')\n",
    " .sort_values(by = 'department')\n",
    " .plot.bar(width = 1, ec = 'black', figsize = (14, 8)))\n",
    "\n",
    "plt.title('Number of Cases by Department')\n",
    "plt.ylabel('Count')\n",
    "plt.xlabel('Number of Cases')\n",
    "plt.xticks(rotation = 45);"
   ]
  },
  {
   "cell_type": "code",
   "execution_count": null,
   "id": "e6d467ce",
   "metadata": {},
   "outputs": [],
   "source": []
  },
  {
   "cell_type": "markdown",
   "id": "b4ec7781",
   "metadata": {},
   "source": [
    "- Does the percentage of cases that are late vary by department?\n",
    "    - Yes, the percentages of cases that are late range from .88% to 34.86%"
   ]
  },
  {
   "cell_type": "code",
   "execution_count": 246,
   "id": "ba300422",
   "metadata": {},
   "outputs": [
    {
     "name": "stdout",
     "output_type": "stream",
     "text": [
      "+------------------------+---------+-----+---------------------------------+\n",
      "|department              |case_late|count|percentage_of_cases_that_are_late|\n",
      "+------------------------+---------+-----+---------------------------------+\n",
      "|Customer Service        |true     |2010 |2.13 %                           |\n",
      "|Trans & Cap Improvements|true     |5411 |5.73 %                           |\n",
      "|Metro Health            |true     |829  |0.88 %                           |\n",
      "|Animal Care Services    |true     |23276|24.63 %                          |\n",
      "|Parks & Recreation      |true     |3797 |4.02 %                           |\n",
      "|Solid Waste             |true     |32945|34.86 %                          |\n",
      "|DSD/Code Enforcement    |true     |26235|27.76 %                          |\n",
      "+------------------------+---------+-----+---------------------------------+\n",
      "\n"
     ]
    },
    {
     "name": "stderr",
     "output_type": "stream",
     "text": [
      "\r",
      "[Stage 1028:====>                                                 (1 + 11) / 12]\r",
      "\r",
      "                                                                                \r"
     ]
    }
   ],
   "source": [
    "(df.groupBy('department', 'case_late')\n",
    " .count()\n",
    " .filter(df.case_late == 'true')\n",
    " .withColumn('percentage_of_cases_that_are_late', \n",
    "             concat(round(col('count') / df.filter(df.case_late == 'true')\n",
    "             .count() * 100, 2), \n",
    "             lit(' %')))\n",
    " .show(truncate = False))"
   ]
  },
  {
   "cell_type": "code",
   "execution_count": 157,
   "id": "54ab99d1",
   "metadata": {},
   "outputs": [
    {
     "data": {
      "image/png": "[encoded data removed]",
      "text/plain": [
       "<Figure size 1008x576 with 1 Axes>"
      ]
     },
     "metadata": {},
     "output_type": "display_data"
    }
   ],
   "source": [
    "(df.groupBy('department', 'case_late')\n",
    " .count()\n",
    " .filter(df.case_late == 'true')\n",
    " .withColumn('percentage of cases that are late', \n",
    "             round(col('count') / df.filter(df.case_late == 'true')\n",
    "             .count() * 100, 2), \n",
    "             )\n",
    " .toPandas()['percentage of cases that are late']\n",
    " .plot.bar(width = 1, ec = 'black', figsize = (14, 8))\n",
    ") \n",
    "\n",
    "\n",
    "plt.title('Percentage of Late Cases by Department')\n",
    "plt.ylabel('%')\n",
    "plt.xlabel('Department Name')\n",
    "plt.xticks(rotation = 45, ticks = np.arange(7), labels = ['Customer Service', \n",
    "                                                          'Trans & Cap Improvements',\n",
    "                                                          'Metro Health',\n",
    "                                                          'Animal Care Services',\n",
    "                                                          'Parks & Recreation',\n",
    "                                                          'Solid Waste', \n",
    "                                                          'DSD/Code Enforcement']);"
   ]
  },
  {
   "cell_type": "code",
   "execution_count": null,
   "id": "2a72f521",
   "metadata": {},
   "outputs": [],
   "source": []
  },
  {
   "cell_type": "markdown",
   "id": "41165318",
   "metadata": {},
   "source": [
    "- On average, how late are the late cases by department?\n",
    " - Customer Service: **87.68 days**\n",
    " - Trans & Cap Improvements: plot hole repair with **10.6 days**\n",
    " - Metro Health: license renewal invoice with **6.54 days**\n",
    " - Animal Care Services: stray animal with **23.46 days**\n",
    " - Parks & Recreation: carpentry with **22.35 days**\n",
    " - Solid Waste: no pickup with **7.19 days**\n",
    " - DSD/Code Enforcement: overgrown yard/trash with **49.38 days**\n",
    "\n"
   ]
  },
  {
   "cell_type": "code",
   "execution_count": 173,
   "id": "1f08f6d1",
   "metadata": {},
   "outputs": [
    {
     "name": "stdout",
     "output_type": "stream",
     "text": [
      "+------------------------+---------+-------------+\n",
      "|department              |case_late|avg days late|\n",
      "+------------------------+---------+-------------+\n",
      "|Customer Service        |true     |87.68        |\n",
      "|Trans & Cap Improvements|true     |10.6         |\n",
      "|Metro Health            |true     |6.54         |\n",
      "|Animal Care Services    |true     |23.46        |\n",
      "|Parks & Recreation      |true     |22.35        |\n",
      "|Solid Waste             |true     |7.19         |\n",
      "|DSD/Code Enforcement    |true     |49.38        |\n",
      "+------------------------+---------+-------------+\n",
      "\n"
     ]
    }
   ],
   "source": [
    "(df.groupBy('department', 'case_late')\n",
    " .agg(round(avg('num_days_late'), 2).alias('avg_days_late'))\n",
    " .filter(df.case_late == 'true').show(truncate = False)\n",
    ")"
   ]
  },
  {
   "cell_type": "code",
   "execution_count": 247,
   "id": "0777c8f6",
   "metadata": {},
   "outputs": [
    {
     "data": {
      "image/png": "[encoded data removed]",
      "text/plain": [
       "<Figure size 936x504 with 1 Axes>"
      ]
     },
     "metadata": {},
     "output_type": "display_data"
    }
   ],
   "source": [
    "(df.groupBy('department', 'case_late')\n",
    " .agg(round(avg('num_days_late'), 2).alias('Average Days Late'))\n",
    " .filter(df.case_late == 'true')\n",
    " .toPandas()\n",
    " .plot.bar()\n",
    ")\n",
    "\n",
    "plt.title('Average of Days Late of Late Cases by Department')\n",
    "plt.ylabel('Number of Days')\n",
    "plt.xlabel('Department Name')\n",
    "plt.xticks(rotation = 45, ticks = np.arange(7), labels = ['Customer Service', \n",
    "                                                          'Trans & Cap Improvements',\n",
    "                                                          'Metro Health',\n",
    "                                                          'Animal Care Services',\n",
    "                                                          'Parks & Recreation',\n",
    "                                                          'Solid Waste', \n",
    "                                                          'DSD/Code Enforcement']);"
   ]
  },
  {
   "cell_type": "code",
   "execution_count": null,
   "id": "88c12748",
   "metadata": {},
   "outputs": [],
   "source": []
  },
  {
   "cell_type": "markdown",
   "id": "c2425c37",
   "metadata": {},
   "source": [
    "- What is the service type that is the most late? Just for Parks & Rec?\n",
    "    - Overall: Trapped/Confined Animal with **5696 cases**\n",
    "    - For Parks & Red: Carpentry with **587 cases**"
   ]
  },
  {
   "cell_type": "code",
   "execution_count": 249,
   "id": "a5b16e3b",
   "metadata": {},
   "outputs": [
    {
     "name": "stderr",
     "output_type": "stream",
     "text": [
      "                                                                                \r"
     ]
    },
    {
     "data": {
      "text/html": [
       "<div>\n",
       "<style scoped>\n",
       "    .dataframe tbody tr th:only-of-type {\n",
       "        vertical-align: middle;\n",
       "    }\n",
       "\n",
       "    .dataframe tbody tr th {\n",
       "        vertical-align: top;\n",
       "    }\n",
       "\n",
       "    .dataframe thead th {\n",
       "        text-align: right;\n",
       "    }\n",
       "</style>\n",
       "<table border=\"1\" class=\"dataframe\">\n",
       "  <thead>\n",
       "    <tr style=\"text-align: right;\">\n",
       "      <th></th>\n",
       "      <th>service_request_type</th>\n",
       "      <th>case_late</th>\n",
       "      <th>count_of_late_cases</th>\n",
       "    </tr>\n",
       "  </thead>\n",
       "  <tbody>\n",
       "    <tr>\n",
       "      <th>31</th>\n",
       "      <td>Trapped/Confined Animal</td>\n",
       "      <td>True</td>\n",
       "      <td>5696</td>\n",
       "    </tr>\n",
       "  </tbody>\n",
       "</table>\n",
       "</div>"
      ],
      "text/plain": [
       "       service_request_type  case_late  count_of_late_cases\n",
       "31  Trapped/Confined Animal       True                 5696"
      ]
     },
     "execution_count": 249,
     "metadata": {},
     "output_type": "execute_result"
    }
   ],
   "source": [
    "(df.groupBy('service_request_type', 'case_late')\n",
    " .agg(count('num_days_late').alias('count_of_late_cases'))\n",
    " .filter(df.case_late == 'true')\n",
    ").toPandas().sort_values(by = 'count_of_late_cases').tail(1)"
   ]
  },
  {
   "cell_type": "code",
   "execution_count": 250,
   "id": "247edbf6",
   "metadata": {},
   "outputs": [
    {
     "data": {
      "text/html": [
       "<div>\n",
       "<style scoped>\n",
       "    .dataframe tbody tr th:only-of-type {\n",
       "        vertical-align: middle;\n",
       "    }\n",
       "\n",
       "    .dataframe tbody tr th {\n",
       "        vertical-align: top;\n",
       "    }\n",
       "\n",
       "    .dataframe thead th {\n",
       "        text-align: right;\n",
       "    }\n",
       "</style>\n",
       "<table border=\"1\" class=\"dataframe\">\n",
       "  <thead>\n",
       "    <tr style=\"text-align: right;\">\n",
       "      <th></th>\n",
       "      <th>department</th>\n",
       "      <th>service_request_type</th>\n",
       "      <th>case_late</th>\n",
       "      <th>count_of_late_cases</th>\n",
       "    </tr>\n",
       "  </thead>\n",
       "  <tbody>\n",
       "    <tr>\n",
       "      <th>17</th>\n",
       "      <td>Parks &amp; Recreation</td>\n",
       "      <td>Carpentry</td>\n",
       "      <td>True</td>\n",
       "      <td>587</td>\n",
       "    </tr>\n",
       "  </tbody>\n",
       "</table>\n",
       "</div>"
      ],
      "text/plain": [
       "            department service_request_type  case_late  count_of_late_cases\n",
       "17  Parks & Recreation            Carpentry       True                  587"
      ]
     },
     "execution_count": 250,
     "metadata": {},
     "output_type": "execute_result"
    }
   ],
   "source": [
    "(df.groupBy('department', 'service_request_type', 'case_late')\n",
    " .agg(count('num_days_late').alias('count_of_late_cases'))\n",
    " .filter(df.department == 'Parks & Recreation')\n",
    " .filter(df.case_late == 'true')\n",
    ").toPandas().sort_values(by = 'count_of_late_cases').tail(1)"
   ]
  },
  {
   "cell_type": "code",
   "execution_count": null,
   "id": "d9ca3493",
   "metadata": {},
   "outputs": [],
   "source": []
  },
  {
   "cell_type": "markdown",
   "id": "b9f6b6b7",
   "metadata": {},
   "source": [
    "- For the DSD/Code Enforcement department, what are the most common service request types? Look at other departments too.\n",
    " - Customer Service: complaint with **2,388 requests**\n",
    " - Trans & Cap Improvements: plot hole repair with **20,616 requests**\n",
    " - Metro Health: license renewal invoice with **1,349 requests**\n",
    " - Animal Care Services: stray animal with **26,760 requests**\n",
    " - Parks & Recreation: carpentry with **1,944 requests**\n",
    " - Solid Waste: no pickup with **86,855 requests**\n",
    " - DSD/Code Enforcement: overgrown yard/trash with **65,895 requests**\n"
   ]
  },
  {
   "cell_type": "code",
   "execution_count": 236,
   "id": "1c3632dc",
   "metadata": {},
   "outputs": [],
   "source": [
    "departments = ['Customer Service', 'Trans & Cap Improvements', 'Metro Health', 'Animal Care Services', 'Parks & Recreation', 'Solid Waste', 'DSD/Code Enforcement']"
   ]
  },
  {
   "cell_type": "code",
   "execution_count": 239,
   "id": "bde7ce45",
   "metadata": {
    "scrolled": true
   },
   "outputs": [
    {
     "data": {
      "text/html": [
       "<div>\n",
       "<style scoped>\n",
       "    .dataframe tbody tr th:only-of-type {\n",
       "        vertical-align: middle;\n",
       "    }\n",
       "\n",
       "    .dataframe tbody tr th {\n",
       "        vertical-align: top;\n",
       "    }\n",
       "\n",
       "    .dataframe thead th {\n",
       "        text-align: right;\n",
       "    }\n",
       "</style>\n",
       "<table border=\"1\" class=\"dataframe\">\n",
       "  <thead>\n",
       "    <tr style=\"text-align: right;\">\n",
       "      <th></th>\n",
       "      <th>department</th>\n",
       "      <th>service_request_type</th>\n",
       "      <th>number of service requests</th>\n",
       "    </tr>\n",
       "  </thead>\n",
       "  <tbody>\n",
       "    <tr>\n",
       "      <th>1</th>\n",
       "      <td>Customer Service</td>\n",
       "      <td>Complaint</td>\n",
       "      <td>2388</td>\n",
       "    </tr>\n",
       "  </tbody>\n",
       "</table>\n",
       "</div>"
      ],
      "text/plain": [
       "         department service_request_type  number of service requests\n",
       "1  Customer Service            Complaint                        2388"
      ]
     },
     "metadata": {},
     "output_type": "display_data"
    },
    {
     "data": {
      "text/html": [
       "<div>\n",
       "<style scoped>\n",
       "    .dataframe tbody tr th:only-of-type {\n",
       "        vertical-align: middle;\n",
       "    }\n",
       "\n",
       "    .dataframe tbody tr th {\n",
       "        vertical-align: top;\n",
       "    }\n",
       "\n",
       "    .dataframe thead th {\n",
       "        text-align: right;\n",
       "    }\n",
       "</style>\n",
       "<table border=\"1\" class=\"dataframe\">\n",
       "  <thead>\n",
       "    <tr style=\"text-align: right;\">\n",
       "      <th></th>\n",
       "      <th>department</th>\n",
       "      <th>service_request_type</th>\n",
       "      <th>number of service requests</th>\n",
       "    </tr>\n",
       "  </thead>\n",
       "  <tbody>\n",
       "    <tr>\n",
       "      <th>70</th>\n",
       "      <td>Trans &amp; Cap Improvements</td>\n",
       "      <td>Pot Hole Repair</td>\n",
       "      <td>20616</td>\n",
       "    </tr>\n",
       "  </tbody>\n",
       "</table>\n",
       "</div>"
      ],
      "text/plain": [
       "                  department service_request_type  number of service requests\n",
       "70  Trans & Cap Improvements      Pot Hole Repair                       20616"
      ]
     },
     "metadata": {},
     "output_type": "display_data"
    },
    {
     "data": {
      "text/html": [
       "<div>\n",
       "<style scoped>\n",
       "    .dataframe tbody tr th:only-of-type {\n",
       "        vertical-align: middle;\n",
       "    }\n",
       "\n",
       "    .dataframe tbody tr th {\n",
       "        vertical-align: top;\n",
       "    }\n",
       "\n",
       "    .dataframe thead th {\n",
       "        text-align: right;\n",
       "    }\n",
       "</style>\n",
       "<table border=\"1\" class=\"dataframe\">\n",
       "  <thead>\n",
       "    <tr style=\"text-align: right;\">\n",
       "      <th></th>\n",
       "      <th>department</th>\n",
       "      <th>service_request_type</th>\n",
       "      <th>number of service requests</th>\n",
       "    </tr>\n",
       "  </thead>\n",
       "  <tbody>\n",
       "    <tr>\n",
       "      <th>2</th>\n",
       "      <td>Metro Health</td>\n",
       "      <td>License Renewal Invoice</td>\n",
       "      <td>1349</td>\n",
       "    </tr>\n",
       "  </tbody>\n",
       "</table>\n",
       "</div>"
      ],
      "text/plain": [
       "     department     service_request_type  number of service requests\n",
       "2  Metro Health  License Renewal Invoice                        1349"
      ]
     },
     "metadata": {},
     "output_type": "display_data"
    },
    {
     "data": {
      "text/html": [
       "<div>\n",
       "<style scoped>\n",
       "    .dataframe tbody tr th:only-of-type {\n",
       "        vertical-align: middle;\n",
       "    }\n",
       "\n",
       "    .dataframe tbody tr th {\n",
       "        vertical-align: top;\n",
       "    }\n",
       "\n",
       "    .dataframe thead th {\n",
       "        text-align: right;\n",
       "    }\n",
       "</style>\n",
       "<table border=\"1\" class=\"dataframe\">\n",
       "  <thead>\n",
       "    <tr style=\"text-align: right;\">\n",
       "      <th></th>\n",
       "      <th>department</th>\n",
       "      <th>service_request_type</th>\n",
       "      <th>number of service requests</th>\n",
       "    </tr>\n",
       "  </thead>\n",
       "  <tbody>\n",
       "    <tr>\n",
       "      <th>5</th>\n",
       "      <td>Animal Care Services</td>\n",
       "      <td>Stray Animal</td>\n",
       "      <td>26760</td>\n",
       "    </tr>\n",
       "  </tbody>\n",
       "</table>\n",
       "</div>"
      ],
      "text/plain": [
       "             department service_request_type  number of service requests\n",
       "5  Animal Care Services         Stray Animal                       26760"
      ]
     },
     "metadata": {},
     "output_type": "display_data"
    },
    {
     "data": {
      "text/html": [
       "<div>\n",
       "<style scoped>\n",
       "    .dataframe tbody tr th:only-of-type {\n",
       "        vertical-align: middle;\n",
       "    }\n",
       "\n",
       "    .dataframe tbody tr th {\n",
       "        vertical-align: top;\n",
       "    }\n",
       "\n",
       "    .dataframe thead th {\n",
       "        text-align: right;\n",
       "    }\n",
       "</style>\n",
       "<table border=\"1\" class=\"dataframe\">\n",
       "  <thead>\n",
       "    <tr style=\"text-align: right;\">\n",
       "      <th></th>\n",
       "      <th>department</th>\n",
       "      <th>service_request_type</th>\n",
       "      <th>number of service requests</th>\n",
       "    </tr>\n",
       "  </thead>\n",
       "  <tbody>\n",
       "    <tr>\n",
       "      <th>16</th>\n",
       "      <td>Parks &amp; Recreation</td>\n",
       "      <td>Carpentry</td>\n",
       "      <td>1944</td>\n",
       "    </tr>\n",
       "  </tbody>\n",
       "</table>\n",
       "</div>"
      ],
      "text/plain": [
       "            department service_request_type  number of service requests\n",
       "16  Parks & Recreation            Carpentry                        1944"
      ]
     },
     "metadata": {},
     "output_type": "display_data"
    },
    {
     "data": {
      "text/html": [
       "<div>\n",
       "<style scoped>\n",
       "    .dataframe tbody tr th:only-of-type {\n",
       "        vertical-align: middle;\n",
       "    }\n",
       "\n",
       "    .dataframe tbody tr th {\n",
       "        vertical-align: top;\n",
       "    }\n",
       "\n",
       "    .dataframe thead th {\n",
       "        text-align: right;\n",
       "    }\n",
       "</style>\n",
       "<table border=\"1\" class=\"dataframe\">\n",
       "  <thead>\n",
       "    <tr style=\"text-align: right;\">\n",
       "      <th></th>\n",
       "      <th>department</th>\n",
       "      <th>service_request_type</th>\n",
       "      <th>number of service requests</th>\n",
       "    </tr>\n",
       "  </thead>\n",
       "  <tbody>\n",
       "    <tr>\n",
       "      <th>25</th>\n",
       "      <td>Solid Waste</td>\n",
       "      <td>No Pickup</td>\n",
       "      <td>86855</td>\n",
       "    </tr>\n",
       "  </tbody>\n",
       "</table>\n",
       "</div>"
      ],
      "text/plain": [
       "     department service_request_type  number of service requests\n",
       "25  Solid Waste            No Pickup                       86855"
      ]
     },
     "metadata": {},
     "output_type": "display_data"
    },
    {
     "data": {
      "text/html": [
       "<div>\n",
       "<style scoped>\n",
       "    .dataframe tbody tr th:only-of-type {\n",
       "        vertical-align: middle;\n",
       "    }\n",
       "\n",
       "    .dataframe tbody tr th {\n",
       "        vertical-align: top;\n",
       "    }\n",
       "\n",
       "    .dataframe thead th {\n",
       "        text-align: right;\n",
       "    }\n",
       "</style>\n",
       "<table border=\"1\" class=\"dataframe\">\n",
       "  <thead>\n",
       "    <tr style=\"text-align: right;\">\n",
       "      <th></th>\n",
       "      <th>department</th>\n",
       "      <th>service_request_type</th>\n",
       "      <th>number of service requests</th>\n",
       "    </tr>\n",
       "  </thead>\n",
       "  <tbody>\n",
       "    <tr>\n",
       "      <th>66</th>\n",
       "      <td>DSD/Code Enforcement</td>\n",
       "      <td>Overgrown Yard/Trash</td>\n",
       "      <td>65895</td>\n",
       "    </tr>\n",
       "  </tbody>\n",
       "</table>\n",
       "</div>"
      ],
      "text/plain": [
       "              department  service_request_type  number of service requests\n",
       "66  DSD/Code Enforcement  Overgrown Yard/Trash                       65895"
      ]
     },
     "metadata": {},
     "output_type": "display_data"
    }
   ],
   "source": [
    "for department in departments:\n",
    "    display((df.groupBy('department', 'service_request_type')\n",
    "     .agg(count('service_request_type').alias('number_of_service_requests'))\n",
    "     .filter(df.department == department)\n",
    "     .toPandas().sort_values(by = 'number of service requests').tail(1)\n",
    "    ))"
   ]
  },
  {
   "cell_type": "code",
   "execution_count": null,
   "id": "ef8575a8",
   "metadata": {},
   "outputs": [],
   "source": []
  },
  {
   "cell_type": "markdown",
   "id": "b1a6b549",
   "metadata": {},
   "source": [
    "- Does whether or not its a weekend matter for when a case is opened/closed?"
   ]
  },
  {
   "cell_type": "code",
   "execution_count": null,
   "id": "09e40225",
   "metadata": {},
   "outputs": [],
   "source": []
  },
  {
   "cell_type": "code",
   "execution_count": null,
   "id": "c8aa20df",
   "metadata": {},
   "outputs": [],
   "source": []
  },
  {
   "cell_type": "code",
   "execution_count": null,
   "id": "4c8b12b3",
   "metadata": {},
   "outputs": [],
   "source": []
  },
  {
   "cell_type": "code",
   "execution_count": null,
   "id": "9d634595",
   "metadata": {},
   "outputs": [],
   "source": []
  },
  {
   "cell_type": "markdown",
   "id": "4fdf16f1",
   "metadata": {},
   "source": [
    "- On average, how many cases are opened a day for the Customer Service department?"
   ]
  },
  {
   "cell_type": "code",
   "execution_count": null,
   "id": "3713d6fc",
   "metadata": {},
   "outputs": [],
   "source": []
  },
  {
   "cell_type": "code",
   "execution_count": null,
   "id": "01c0ee36",
   "metadata": {},
   "outputs": [],
   "source": []
  },
  {
   "cell_type": "markdown",
   "id": "e3a6cb27",
   "metadata": {},
   "source": [
    "- Does the number of service requests for the solid waste department vary by day of the week?"
   ]
  },
  {
   "cell_type": "code",
   "execution_count": null,
   "id": "ea8e9476",
   "metadata": {},
   "outputs": [],
   "source": []
  },
  {
   "cell_type": "code",
   "execution_count": null,
   "id": "f76e7bf6",
   "metadata": {},
   "outputs": [],
   "source": []
  }
 ],
 "metadata": {
  "kernelspec": {
   "display_name": "Python 3 (ipykernel)",
   "language": "python",
   "name": "python3"
  },
  "language_info": {
   "codemirror_mode": {
    "name": "ipython",
    "version": 3
   },
   "file_extension": ".py",
   "mimetype": "text/x-python",
   "name": "python",
   "nbconvert_exporter": "python",
   "pygments_lexer": "ipython3",
   "version": "3.7.3"
  }
 },
 "nbformat": 4,
 "nbformat_minor": 5
}

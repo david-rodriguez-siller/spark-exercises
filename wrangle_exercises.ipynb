{
 "cells": [
  {
   "cell_type": "markdown",
   "id": "f122f049",
   "metadata": {},
   "source": [
    "#### Wrangle Spark Exercises\n",
    "\n",
    "These exercises should go in a notebook or script named `wrangle`. Add, commit, and push your changes.\n",
    "\n",
    "This exercises uses the `case.csv`, `dept.csv`, and `source.csv` files from the san antonio 311 call dataset.\n",
    "\n",
    "1. Read the case, department, and source data into their own spark dataframes.\n",
    "\n",
    "2. Let's see how writing to the local disk works in spark:\n",
    "\n",
    " - Write the code necessary to store the source data in both csv and json format, store these as `sources_csv` and `sources_json`.\n",
    " - Inspect your folder structure. What do you notice?\n",
    "\n",
    "\n",
    "3. Inspect the data in your dataframes. Are the data types appropriate? Write the code necessary to cast the values to the appropriate types."
   ]
  },
  {
   "cell_type": "code",
   "execution_count": 2,
   "id": "f485f362",
   "metadata": {},
   "outputs": [],
   "source": [
    "from pyspark.sql import SparkSession\n",
    "from pyspark.sql.functions import *\n",
    "\n",
    "spark = SparkSession.builder.getOrCreate()"
   ]
  },
  {
   "cell_type": "code",
   "execution_count": 4,
   "id": "128b5614",
   "metadata": {},
   "outputs": [
    {
     "name": "stderr",
     "output_type": "stream",
     "text": [
      "                                                                                \r"
     ]
    }
   ],
   "source": [
    "# 1. read exercise dataframes into spark dataframes\n",
    "case_df = spark.read.csv(\"case.csv\", sep=\",\", header=True, inferSchema=True)\n",
    "dept_df = spark.read.csv(\"dept.csv\", sep=\",\", header=True, inferSchema=True)\n",
    "source_df = spark.read.csv(\"source.csv\", sep=\",\", header=True, inferSchema=True)"
   ]
  },
  {
   "cell_type": "code",
   "execution_count": 5,
   "id": "07101165",
   "metadata": {},
   "outputs": [
    {
     "name": "stderr",
     "output_type": "stream",
     "text": [
      "                                                                                \r"
     ]
    }
   ],
   "source": [
    "# write to local disk in scv and json\n",
    "\n",
    "case_df.write.json(\"case.df_json\", mode = \"overwrite\")\n",
    "case_df.write.csv(\"case.df_csv\", mode = \"overwrite\")\n",
    "\n",
    "dept_df.write.json(\"dept.df_json\", mode = \"overwrite\")\n",
    "dept_df.write.csv(\"dept.df_csv\", mode = \"overwrite\")\n",
    "\n",
    "source_df.write.json(\"source.df_json\", mode = \"overwrite\")\n",
    "source_df.write.csv(\"source.df_csv\", mode = \"overwrite\")\n",
    "\n",
    "# spark proceeds to create folders for each of these dataframes for their respective types. \n",
    "# furthermore, files are split into almost equally sized files instead of one consolidated\n",
    "# file."
   ]
  },
  {
   "cell_type": "code",
   "execution_count": 9,
   "id": "c49f8e85",
   "metadata": {},
   "outputs": [
    {
     "data": {
      "text/plain": [
       "[('case_id', 'int'),\n",
       " ('case_opened_date', 'string'),\n",
       " ('case_closed_date', 'string'),\n",
       " ('SLA_due_date', 'string'),\n",
       " ('case_late', 'string'),\n",
       " ('num_days_late', 'double'),\n",
       " ('case_closed', 'string'),\n",
       " ('dept_division', 'string'),\n",
       " ('service_request_type', 'string'),\n",
       " ('SLA_days', 'double'),\n",
       " ('case_status', 'string'),\n",
       " ('source_id', 'string'),\n",
       " ('request_address', 'string'),\n",
       " ('council_district', 'int')]"
      ]
     },
     "execution_count": 9,
     "metadata": {},
     "output_type": "execute_result"
    }
   ],
   "source": [
    "# inspect data in dataframes\n",
    "# case\n",
    "\n",
    "case_df.dtypes"
   ]
  },
  {
   "cell_type": "code",
   "execution_count": 83,
   "id": "53f9a47b",
   "metadata": {},
   "outputs": [
    {
     "data": {
      "text/plain": [
       "[('case_id', 'int'),\n",
       " ('case_opened_date', 'timestamp'),\n",
       " ('case_closed_date', 'timestamp'),\n",
       " ('SLA_due_date', 'timestamp'),\n",
       " ('case_late', 'boolean'),\n",
       " ('num_days_late', 'double'),\n",
       " ('case_closed', 'boolean'),\n",
       " ('dept_division', 'string'),\n",
       " ('service_request_type', 'string'),\n",
       " ('SLA_days', 'double'),\n",
       " ('case_status', 'string'),\n",
       " ('source_id', 'string'),\n",
       " ('request_address', 'string'),\n",
       " ('council_district', 'string'),\n",
       " ('case_due_date', 'timestamp')]"
      ]
     },
     "execution_count": 83,
     "metadata": {},
     "output_type": "execute_result"
    }
   ],
   "source": [
    "case_df = (case_df\n",
    " .withColumn(\"case_closed\", \n",
    "             expr('case_closed == \"YES\"'))\n",
    " .withColumn(\"case_late\", \n",
    "             expr('case_late == \"YES\"'))\n",
    " .withColumn('council_district', col('council_district').cast('string'))\n",
    " .withColumn(\"case_opened_date\", to_timestamp(\"case_opened_date\", 'M/d/yy H:mm'))\n",
    " .withColumn(\"case_closed_date\", to_timestamp(\"case_opened_date\", 'M/d/yy H:mm'))\n",
    " .withColumn(\"SLA_due_date\", to_timestamp(\"case_opened_date\", 'M/d/yy H:mm'))\n",
    " .withColumn(\"case_due_date\", to_timestamp(\"case_opened_date\", 'M/d/yy H:mm')))\n",
    "\n",
    "case_df.dtypes"
   ]
  },
  {
   "cell_type": "code",
   "execution_count": 84,
   "id": "243f1403",
   "metadata": {},
   "outputs": [
    {
     "data": {
      "text/plain": [
       "[('dept_division', 'string'),\n",
       " ('dept_name', 'string'),\n",
       " ('standardized_dept_name', 'string'),\n",
       " ('dept_subject_to_SLA', 'string')]"
      ]
     },
     "execution_count": 84,
     "metadata": {},
     "output_type": "execute_result"
    }
   ],
   "source": [
    "# inspect data in dataframes\n",
    "# dept\n",
    "\n",
    "dept_df.dtypes"
   ]
  },
  {
   "cell_type": "code",
   "execution_count": 85,
   "id": "4eefdef7",
   "metadata": {},
   "outputs": [
    {
     "data": {
      "text/plain": [
       "[('source_id', 'string'), ('source_username', 'string')]"
      ]
     },
     "execution_count": 85,
     "metadata": {},
     "output_type": "execute_result"
    }
   ],
   "source": [
    "# inspect data in dataframes\n",
    "# source\n",
    "\n",
    "source_df.dtypes"
   ]
  },
  {
   "cell_type": "code",
   "execution_count": null,
   "id": "071d2f6f",
   "metadata": {},
   "outputs": [],
   "source": []
  },
  {
   "cell_type": "markdown",
   "id": "5ff9e11c",
   "metadata": {},
   "source": [
    "1. How old is the latest (in terms of days past SLA) currently open issue? How long has the oldest (in terms of days since opened) currently opened issue been open?"
   ]
  },
  {
   "cell_type": "code",
   "execution_count": 86,
   "id": "69924d2c",
   "metadata": {},
   "outputs": [
    {
     "name": "stdout",
     "output_type": "stream",
     "text": [
      "-RECORD 0------------------------------------\n",
      " case_id              | 1014127332           \n",
      " case_opened_date     | 2018-01-01 00:42:00  \n",
      " case_closed_date     | 2018-01-01 00:42:00  \n",
      " SLA_due_date         | 2018-01-01 00:42:00  \n",
      " case_late            | false                \n",
      " num_days_late        | -998.5087616000001   \n",
      " case_closed          | true                 \n",
      " dept_division        | Field Operations     \n",
      " service_request_type | Stray Animal         \n",
      " SLA_days             | 999.0                \n",
      " case_status          | Closed               \n",
      " source_id            | svcCRMLS             \n",
      " request_address      | 2315  EL PASO ST,... \n",
      " council_district     | 5                    \n",
      " case_due_date        | 2018-01-01 00:42:00  \n",
      "only showing top 1 row\n",
      "\n"
     ]
    }
   ],
   "source": [
    "# How old is the latest (in terms of days past SLA) currently open issue?\n",
    "case_df.show(1, vertical = True)"
   ]
  },
  {
   "cell_type": "code",
   "execution_count": 88,
   "id": "37513774",
   "metadata": {},
   "outputs": [
    {
     "name": "stdout",
     "output_type": "stream",
     "text": [
      "+---------------------+\n",
      "|max(case_opened_date)|\n",
      "+---------------------+\n",
      "|  2018-08-08 10:38:00|\n",
      "+---------------------+\n",
      "\n"
     ]
    }
   ],
   "source": [
    "case_df.select(max('case_opened_date')).show()"
   ]
  },
  {
   "cell_type": "code",
   "execution_count": 68,
   "id": "1b1d9d8f",
   "metadata": {
    "scrolled": true
   },
   "outputs": [
    {
     "name": "stdout",
     "output_type": "stream",
     "text": [
      "+--------+-------------------+\n",
      "|SLA_days|   case_opened_date|\n",
      "+--------+-------------------+\n",
      "|    14.0|2018-08-08 10:38:00|\n",
      "|    14.0|2018-08-08 10:38:00|\n",
      "|     9.0|2018-08-08 10:38:00|\n",
      "+--------+-------------------+\n",
      "\n"
     ]
    }
   ],
   "source": [
    "(case_df\n",
    " .select('SLA_days', \n",
    "         'case_opened_date')\n",
    " .where(expr('! case_closed'))\n",
    " .where('case_opened_date == \"2018-08-08 10:38:00\"')\n",
    " .show())"
   ]
  },
  {
   "cell_type": "code",
   "execution_count": 67,
   "id": "4ce6704e",
   "metadata": {},
   "outputs": [
    {
     "name": "stdout",
     "output_type": "stream",
     "text": [
      "+---------------------+\n",
      "|max(case_opened_date)|\n",
      "+---------------------+\n",
      "|  2018-08-08 10:38:00|\n",
      "+---------------------+\n",
      "\n"
     ]
    }
   ],
   "source": [
    "(case_df\n",
    " .select('SLA_days', 'case_opened_date')\n",
    " .where(expr('! case_closed'))\n",
    " .agg(expr('max(case_opened_date)')).show())"
   ]
  },
  {
   "cell_type": "code",
   "execution_count": 69,
   "id": "7e28d18f",
   "metadata": {},
   "outputs": [],
   "source": [
    "# How long has the oldest (in terms of days since opened) currently opened issue been open?\n"
   ]
  },
  {
   "cell_type": "code",
   "execution_count": null,
   "id": "ac86d1d3",
   "metadata": {},
   "outputs": [],
   "source": []
  },
  {
   "cell_type": "markdown",
   "id": "eeff2734",
   "metadata": {},
   "source": [
    "2. How many Stray Animal cases are there?"
   ]
  },
  {
   "cell_type": "code",
   "execution_count": 78,
   "id": "f2ddbbc2",
   "metadata": {
    "scrolled": true
   },
   "outputs": [
    {
     "name": "stdout",
     "output_type": "stream",
     "text": [
      "+-----------------------+\n",
      "|stray_animal_case_count|\n",
      "+-----------------------+\n",
      "|                 841704|\n",
      "+-----------------------+\n",
      "\n"
     ]
    }
   ],
   "source": [
    "(case_df\n",
    " .select(count(case_df.case_id)\n",
    " .alias('stray_animal_case_count'))\n",
    " .show())"
   ]
  },
  {
   "cell_type": "code",
   "execution_count": 77,
   "id": "bc7a0183",
   "metadata": {},
   "outputs": [
    {
     "name": "stdout",
     "output_type": "stream",
     "text": [
      "+------------------+\n",
      "|count(stray_cases)|\n",
      "+------------------+\n",
      "|            841704|\n",
      "+------------------+\n",
      "\n"
     ]
    },
    {
     "name": "stderr",
     "output_type": "stream",
     "text": [
      "\r",
      "[Stage 75:=========>                                              (2 + 10) / 12]\r",
      "\r",
      "                                                                                \r"
     ]
    }
   ],
   "source": [
    "(case_df\n",
    " .withColumn('stray_cases', expr('service_request_type == \"Stray Animal\"'))\n",
    " .select(count('stray_cases'))\n",
    " .show())"
   ]
  },
  {
   "cell_type": "code",
   "execution_count": null,
   "id": "dfd7dc09",
   "metadata": {},
   "outputs": [],
   "source": []
  },
  {
   "cell_type": "markdown",
   "id": "1c36e504",
   "metadata": {},
   "source": [
    "3. How many service requests that are assigned to the Field Operations department (`dept_division`) are not classified as \"Officer Standby\" request type (`service_request_type`)?"
   ]
  },
  {
   "cell_type": "code",
   "execution_count": null,
   "id": "fb45916d",
   "metadata": {},
   "outputs": [],
   "source": []
  },
  {
   "cell_type": "code",
   "execution_count": null,
   "id": "a055c541",
   "metadata": {},
   "outputs": [],
   "source": []
  },
  {
   "cell_type": "markdown",
   "id": "60c3917e",
   "metadata": {},
   "source": [
    "4. Convert the `council_district` column to a string column."
   ]
  },
  {
   "cell_type": "code",
   "execution_count": 82,
   "id": "c5d59290",
   "metadata": {},
   "outputs": [
    {
     "data": {
      "text/plain": [
       "[('case_id', 'int'),\n",
       " ('case_opened_date', 'timestamp'),\n",
       " ('case_closed_date', 'timestamp'),\n",
       " ('SLA_due_date', 'string'),\n",
       " ('case_late', 'boolean'),\n",
       " ('num_days_late', 'double'),\n",
       " ('case_closed', 'boolean'),\n",
       " ('dept_division', 'string'),\n",
       " ('service_request_type', 'string'),\n",
       " ('SLA_days', 'double'),\n",
       " ('case_status', 'string'),\n",
       " ('source_id', 'string'),\n",
       " ('request_address', 'string'),\n",
       " ('council_district', 'string'),\n",
       " ('case_due_date', 'timestamp')]"
      ]
     },
     "execution_count": 82,
     "metadata": {},
     "output_type": "execute_result"
    },
    {
     "name": "stderr",
     "output_type": "stream",
     "text": [
      "22/02/14 16:11:02 WARN HeartbeatReceiver: Removing executor driver with no recent heartbeats: 235623 ms exceeds timeout 120000 ms\n",
      "22/02/14 16:11:02 WARN SparkContext: Killing executors is not supported by current scheduler.\n"
     ]
    }
   ],
   "source": [
    "case_df = case_df.withColumn('council_district', col('council_district').cast('string'))\n",
    "case_df.dtypes"
   ]
  },
  {
   "cell_type": "code",
   "execution_count": null,
   "id": "ed159193",
   "metadata": {},
   "outputs": [],
   "source": []
  },
  {
   "cell_type": "markdown",
   "id": "84c0d564",
   "metadata": {},
   "source": [
    "5. Extract the year from the `case_closed_date` column."
   ]
  },
  {
   "cell_type": "code",
   "execution_count": null,
   "id": "25cbcfa5",
   "metadata": {},
   "outputs": [],
   "source": []
  },
  {
   "cell_type": "code",
   "execution_count": null,
   "id": "10f6363c",
   "metadata": {},
   "outputs": [],
   "source": []
  },
  {
   "cell_type": "markdown",
   "id": "888f297c",
   "metadata": {},
   "source": [
    "6. Convert `num_days_late` from days to hours in new columns num_hours_late."
   ]
  },
  {
   "cell_type": "code",
   "execution_count": null,
   "id": "3be85589",
   "metadata": {},
   "outputs": [],
   "source": []
  },
  {
   "cell_type": "code",
   "execution_count": null,
   "id": "944a408b",
   "metadata": {},
   "outputs": [],
   "source": []
  },
  {
   "cell_type": "markdown",
   "id": "f43c2d66",
   "metadata": {},
   "source": [
    "7. Join the case data with the source and department data."
   ]
  },
  {
   "cell_type": "code",
   "execution_count": null,
   "id": "9394a7cf",
   "metadata": {},
   "outputs": [],
   "source": []
  },
  {
   "cell_type": "code",
   "execution_count": null,
   "id": "bd78f135",
   "metadata": {},
   "outputs": [],
   "source": []
  },
  {
   "cell_type": "markdown",
   "id": "fcf2f589",
   "metadata": {},
   "source": [
    "8. Are there any cases that do not have a request source?"
   ]
  },
  {
   "cell_type": "code",
   "execution_count": null,
   "id": "b04f1e51",
   "metadata": {},
   "outputs": [],
   "source": []
  },
  {
   "cell_type": "code",
   "execution_count": null,
   "id": "f96b4a81",
   "metadata": {},
   "outputs": [],
   "source": []
  },
  {
   "cell_type": "markdown",
   "id": "ce1504cf",
   "metadata": {},
   "source": [
    "9. What are the top 10 service request types in terms of number of requests?"
   ]
  },
  {
   "cell_type": "code",
   "execution_count": null,
   "id": "5ae316ba",
   "metadata": {},
   "outputs": [],
   "source": []
  },
  {
   "cell_type": "code",
   "execution_count": null,
   "id": "62d505cf",
   "metadata": {},
   "outputs": [],
   "source": []
  },
  {
   "cell_type": "markdown",
   "id": "7a535918",
   "metadata": {},
   "source": [
    "10. What are the top 10 service request types in terms of average days late?"
   ]
  },
  {
   "cell_type": "code",
   "execution_count": null,
   "id": "2b53aa45",
   "metadata": {},
   "outputs": [],
   "source": []
  },
  {
   "cell_type": "code",
   "execution_count": null,
   "id": "f4e67a1f",
   "metadata": {},
   "outputs": [],
   "source": []
  },
  {
   "cell_type": "markdown",
   "id": "4ad6619e",
   "metadata": {},
   "source": [
    "11. Does number of days late depend on department?"
   ]
  },
  {
   "cell_type": "code",
   "execution_count": null,
   "id": "414b4117",
   "metadata": {},
   "outputs": [],
   "source": []
  },
  {
   "cell_type": "code",
   "execution_count": null,
   "id": "9dbc2e97",
   "metadata": {},
   "outputs": [],
   "source": []
  },
  {
   "cell_type": "markdown",
   "id": "48eccfa3",
   "metadata": {},
   "source": [
    "12. How do number of days late depend on department and request type?"
   ]
  },
  {
   "cell_type": "code",
   "execution_count": null,
   "id": "a78b4df0",
   "metadata": {},
   "outputs": [],
   "source": []
  },
  {
   "cell_type": "code",
   "execution_count": null,
   "id": "58efe7ee",
   "metadata": {},
   "outputs": [],
   "source": []
  }
 ],
 "metadata": {
  "kernelspec": {
   "display_name": "Python 3 (ipykernel)",
   "language": "python",
   "name": "python3"
  },
  "language_info": {
   "codemirror_mode": {
    "name": "ipython",
    "version": 3
   },
   "file_extension": ".py",
   "mimetype": "text/x-python",
   "name": "python",
   "nbconvert_exporter": "python",
   "pygments_lexer": "ipython3",
   "version": "3.7.3"
  }
 },
 "nbformat": 4,
 "nbformat_minor": 5
}

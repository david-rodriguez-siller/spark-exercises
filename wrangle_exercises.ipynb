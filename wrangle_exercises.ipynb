{
 "cells": [
  {
   "cell_type": "markdown",
   "id": "36add3e9",
   "metadata": {},
   "source": [
    "#### Wrangle Spark Exercises\n",
    "\n",
    "These exercises should go in a notebook or script named `wrangle`. Add, commit, and push your changes.\n",
    "\n",
    "This exercises uses the `case.csv`, `dept.csv`, and `source.csv` files from the san antonio 311 call dataset.\n",
    "\n",
    "1. Read the case, department, and source data into their own spark dataframes.\n",
    "\n",
    "2. Let's see how writing to the local disk works in spark:\n",
    "\n",
    " - Write the code necessary to store the source data in both csv and json format, store these as `sources_csv` and `sources_json`.\n",
    " - Inspect your folder structure. What do you notice?\n",
    "\n",
    "\n",
    "3. Inspect the data in your dataframes. Are the data types appropriate? Write the code necessary to cast the values to the appropriate types."
   ]
  },
  {
   "cell_type": "code",
   "execution_count": null,
   "id": "22a428d2",
   "metadata": {},
   "outputs": [],
   "source": [
    "from pyspark.sql import SparkSession\n",
    "from pyspark.sql.functions import *\n",
    "\n",
    "spark = SparkSession.builder.getOrCreate()"
   ]
  },
  {
   "cell_type": "code",
   "execution_count": null,
   "id": "f03a48b5",
   "metadata": {},
   "outputs": [],
   "source": [
    "# 1. read exercise dataframes into spark dataframes\n",
    "case_df = spark.read.csv(\"case.csv\", sep=\",\", header=True, inferSchema=True)\n",
    "dept_df = spark.read.csv(\"dept.csv\", sep=\",\", header=True, inferSchema=True)\n",
    "source_df = spark.read.csv(\"source.csv\", sep=\",\", header=True, inferSchema=True)"
   ]
  },
  {
   "cell_type": "code",
   "execution_count": null,
   "id": "2bbb8758",
   "metadata": {},
   "outputs": [],
   "source": [
    "# write to local disk in scv and json\n",
    "\n",
    "case_df.write.json(\"case.df_json\", mode = \"overwrite\")\n",
    "case_df.write.csv(\"case.df_csv\", mode = \"overwrite\")\n",
    "\n",
    "dept_df.write.json(\"dept.df_json\", mode = \"overwrite\")\n",
    "dept_df.write.csv(\"dept.df_csv\", mode = \"overwrite\")\n",
    "\n",
    "source_df.write.json(\"source.df_json\", mode = \"overwrite\")\n",
    "source_df.write.csv(\"source.df_csv\", mode = \"overwrite\")\n",
    "\n",
    "# spark proceeds to create folders for each of these dataframes for their respective types. \n",
    "# furthermore, files are split into almost equally sized files instead of one consolidated\n",
    "# file."
   ]
  },
  {
   "cell_type": "code",
   "execution_count": null,
   "id": "dbf03e54",
   "metadata": {},
   "outputs": [],
   "source": [
    "# inspect data in dataframes\n",
    "# case\n",
    "\n",
    "case_df.dtypes"
   ]
  },
  {
   "cell_type": "code",
   "execution_count": null,
   "id": "424d6c43",
   "metadata": {},
   "outputs": [],
   "source": [
    "# inspect data in dataframes\n",
    "# dept\n",
    "\n",
    "dept_df.dtypes"
   ]
  },
  {
   "cell_type": "code",
   "execution_count": null,
   "id": "e423d379",
   "metadata": {},
   "outputs": [],
   "source": [
    "# inspect data in dataframes\n",
    "# source\n",
    "\n",
    "source_df.dtypes"
   ]
  },
  {
   "cell_type": "code",
   "execution_count": null,
   "id": "340e6d86",
   "metadata": {},
   "outputs": [],
   "source": []
  },
  {
   "cell_type": "markdown",
   "id": "34e430b7",
   "metadata": {},
   "source": [
    "1. How old is the latest (in terms of days past SLA) currently open issue? How long has the oldest (in terms of days since opened) currently opened issue been open?"
   ]
  },
  {
   "cell_type": "code",
   "execution_count": null,
   "id": "d6005c0c",
   "metadata": {},
   "outputs": [],
   "source": [
    "# How old is the latest (in terms of days past SLA) currently open issue?\n",
    "case_df.show(1, vertical = True)"
   ]
  },
  {
   "cell_type": "code",
   "execution_count": null,
   "id": "2331c4b5",
   "metadata": {},
   "outputs": [],
   "source": [
    "case_df.select(max('case_opened_date')).show()"
   ]
  },
  {
   "cell_type": "code",
   "execution_count": null,
   "id": "253a55e1",
   "metadata": {
    "scrolled": true
   },
   "outputs": [],
   "source": [
    "(case_df\n",
    " .select('SLA_days', \n",
    "         'case_opened_date')\n",
    " .where(expr('! case_closed'))\n",
    " .where('case_opened_date == \"2018-08-08 10:38:00\"')\n",
    " .show())"
   ]
  },
  {
   "cell_type": "code",
   "execution_count": null,
   "id": "b8ebf4fd",
   "metadata": {},
   "outputs": [],
   "source": [
    "(case_df\n",
    " .select('SLA_days', 'case_opened_date')\n",
    " .where(expr('! case_closed'))\n",
    " .agg(expr('max(case_opened_date)')).show())"
   ]
  },
  {
   "cell_type": "code",
   "execution_count": null,
   "id": "50793d40",
   "metadata": {},
   "outputs": [],
   "source": [
    "# How long has the oldest (in terms of days since opened) currently opened issue been open?\n"
   ]
  },
  {
   "cell_type": "code",
   "execution_count": null,
   "id": "525cdb93",
   "metadata": {},
   "outputs": [],
   "source": []
  },
  {
   "cell_type": "markdown",
   "id": "687ad18d",
   "metadata": {},
   "source": [
    "2. How many Stray Animal cases are there?"
   ]
  },
  {
   "cell_type": "code",
   "execution_count": null,
   "id": "481c58b5",
   "metadata": {
    "scrolled": true
   },
   "outputs": [],
   "source": [
    "(case_df\n",
    " .select(count(case_df.case_id)\n",
    " .alias('stray_animal_case_count'))\n",
    " .show())"
   ]
  },
  {
   "cell_type": "code",
   "execution_count": null,
   "id": "2fbdfc00",
   "metadata": {},
   "outputs": [],
   "source": [
    "(case_df\n",
    " .withColumn('stray_cases', expr('service_request_type == \"Stray Animal\"'))\n",
    " .select(count('stray_cases'))\n",
    " .show())"
   ]
  },
  {
   "cell_type": "code",
   "execution_count": null,
   "id": "181fd170",
   "metadata": {},
   "outputs": [],
   "source": []
  },
  {
   "cell_type": "markdown",
   "id": "64f4a288",
   "metadata": {},
   "source": [
    "3. How many service requests that are assigned to the Field Operations department (`dept_division`) are not classified as \"Officer Standby\" request type (`service_request_type`)?"
   ]
  },
  {
   "cell_type": "code",
   "execution_count": null,
   "id": "d5c1eaae",
   "metadata": {},
   "outputs": [],
   "source": []
  },
  {
   "cell_type": "code",
   "execution_count": null,
   "id": "0e2f5cab",
   "metadata": {},
   "outputs": [],
   "source": []
  },
  {
   "cell_type": "markdown",
   "id": "1a8b29bc",
   "metadata": {},
   "source": [
    "4. Convert the `council_district` column to a string column."
   ]
  },
  {
   "cell_type": "code",
   "execution_count": null,
   "id": "4a8101a8",
   "metadata": {},
   "outputs": [],
   "source": [
    "case_df = case_df.withColumn('council_district', col('council_district').cast('string'))\n",
    "case_df.dtypes"
   ]
  },
  {
   "cell_type": "code",
   "execution_count": null,
   "id": "b86abf2f",
   "metadata": {},
   "outputs": [],
   "source": []
  },
  {
   "cell_type": "markdown",
   "id": "895e4010",
   "metadata": {},
   "source": [
    "5. Extract the year from the `case_closed_date` column."
   ]
  },
  {
   "cell_type": "code",
   "execution_count": null,
   "id": "781b11df",
   "metadata": {},
   "outputs": [],
   "source": []
  },
  {
   "cell_type": "code",
   "execution_count": null,
   "id": "9f0984a2",
   "metadata": {},
   "outputs": [],
   "source": []
  },
  {
   "cell_type": "markdown",
   "id": "f374c5f4",
   "metadata": {},
   "source": [
    "6. Convert `num_days_late` from days to hours in new columns num_hours_late."
   ]
  },
  {
   "cell_type": "code",
   "execution_count": null,
   "id": "87e60494",
   "metadata": {},
   "outputs": [],
   "source": []
  },
  {
   "cell_type": "code",
   "execution_count": null,
   "id": "f97f3606",
   "metadata": {},
   "outputs": [],
   "source": []
  },
  {
   "cell_type": "markdown",
   "id": "5b85a58c",
   "metadata": {},
   "source": [
    "7. Join the case data with the source and department data."
   ]
  },
  {
   "cell_type": "code",
   "execution_count": null,
   "id": "daad036e",
   "metadata": {},
   "outputs": [],
   "source": []
  },
  {
   "cell_type": "code",
   "execution_count": null,
   "id": "161140af",
   "metadata": {},
   "outputs": [],
   "source": []
  },
  {
   "cell_type": "markdown",
   "id": "8acc0dbc",
   "metadata": {},
   "source": [
    "8. Are there any cases that do not have a request source?"
   ]
  },
  {
   "cell_type": "code",
   "execution_count": null,
   "id": "c1f9a889",
   "metadata": {},
   "outputs": [],
   "source": []
  },
  {
   "cell_type": "code",
   "execution_count": null,
   "id": "296e3c79",
   "metadata": {},
   "outputs": [],
   "source": []
  },
  {
   "cell_type": "markdown",
   "id": "9813f6ee",
   "metadata": {},
   "source": [
    "9. What are the top 10 service request types in terms of number of requests?"
   ]
  },
  {
   "cell_type": "code",
   "execution_count": null,
   "id": "14a7fc3d",
   "metadata": {},
   "outputs": [],
   "source": []
  },
  {
   "cell_type": "code",
   "execution_count": null,
   "id": "aee26504",
   "metadata": {},
   "outputs": [],
   "source": []
  },
  {
   "cell_type": "markdown",
   "id": "02d2349b",
   "metadata": {},
   "source": [
    "10. What are the top 10 service request types in terms of average days late?"
   ]
  },
  {
   "cell_type": "code",
   "execution_count": null,
   "id": "21865c29",
   "metadata": {},
   "outputs": [],
   "source": []
  },
  {
   "cell_type": "code",
   "execution_count": null,
   "id": "baf0f948",
   "metadata": {},
   "outputs": [],
   "source": []
  },
  {
   "cell_type": "markdown",
   "id": "29c9912f",
   "metadata": {},
   "source": [
    "11. Does number of days late depend on department?"
   ]
  },
  {
   "cell_type": "code",
   "execution_count": null,
   "id": "96afae61",
   "metadata": {},
   "outputs": [],
   "source": []
  },
  {
   "cell_type": "code",
   "execution_count": null,
   "id": "86d3fb1d",
   "metadata": {},
   "outputs": [],
   "source": []
  },
  {
   "cell_type": "markdown",
   "id": "fa23fbe9",
   "metadata": {},
   "source": [
    "12. How do number of days late depend on department and request type?"
   ]
  },
  {
   "cell_type": "code",
   "execution_count": null,
   "id": "5cd98250",
   "metadata": {},
   "outputs": [],
   "source": []
  },
  {
   "cell_type": "code",
   "execution_count": null,
   "id": "4cbc5906",
   "metadata": {},
   "outputs": [],
   "source": []
  }
 ],
 "metadata": {
  "kernelspec": {
   "display_name": "Python 3 (ipykernel)",
   "language": "python",
   "name": "python3"
  },
  "language_info": {
   "codemirror_mode": {
    "name": "ipython",
    "version": 3
   },
   "file_extension": ".py",
   "mimetype": "text/x-python",
   "name": "python",
   "nbconvert_exporter": "python",
   "pygments_lexer": "ipython3",
   "version": "3.7.3"
  }
 },
 "nbformat": 4,
 "nbformat_minor": 5
}

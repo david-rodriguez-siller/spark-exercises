{
 "cells": [
  {
   "cell_type": "markdown",
   "id": "e24bfd60",
   "metadata": {},
   "source": [
    "#### Wrangle Spark Exercises\n",
    "\n",
    "These exercises should go in a notebook or script named `wrangle`. Add, commit, and push your changes.\n",
    "\n",
    "This exercises uses the `case.csv`, `dept.csv`, and `source.csv` files from the san antonio 311 call dataset.\n",
    "\n",
    "1. Read the case, department, and source data into their own spark dataframes.\n",
    "\n",
    "2. Let's see how writing to the local disk works in spark:\n",
    "\n",
    " - Write the code necessary to store the source data in both csv and json format, store these as `sources_csv` and `sources_json`.\n",
    " - Inspect your folder structure. What do you notice?\n",
    "\n",
    "\n",
    "3. Inspect the data in your dataframes. Are the data types appropriate? Write the code necessary to cast the values to the appropriate types."
   ]
  },
  {
   "cell_type": "code",
   "execution_count": 2,
   "id": "5bfa4c8f",
   "metadata": {},
   "outputs": [],
   "source": [
    "from pyspark.sql import SparkSession\n",
    "from pyspark.sql.functions import *\n",
    "\n",
    "spark = SparkSession.builder.getOrCreate()"
   ]
  },
  {
   "cell_type": "code",
   "execution_count": 3,
   "id": "0358dbb6",
   "metadata": {},
   "outputs": [
    {
     "name": "stderr",
     "output_type": "stream",
     "text": [
      "                                                                                \r"
     ]
    }
   ],
   "source": [
    "# 1. read exercise dataframes into spark dataframes\n",
    "case_df = spark.read.csv(\"case.csv\", sep=\",\", header=True, inferSchema=True)\n",
    "dept_df = spark.read.csv(\"dept.csv\", sep=\",\", header=True, inferSchema=True)\n",
    "source_df = spark.read.csv(\"source.csv\", sep=\",\", header=True, inferSchema=True)"
   ]
  },
  {
   "cell_type": "code",
   "execution_count": 4,
   "id": "96a99f2b",
   "metadata": {},
   "outputs": [
    {
     "name": "stderr",
     "output_type": "stream",
     "text": [
      "                                                                                \r"
     ]
    }
   ],
   "source": [
    "# write to local disk in scv and json\n",
    "\n",
    "case_df.write.json(\"case.df_json\", mode = \"overwrite\")\n",
    "case_df.write.csv(\"case.df_csv\", mode = \"overwrite\")\n",
    "\n",
    "dept_df.write.json(\"dept.df_json\", mode = \"overwrite\")\n",
    "dept_df.write.csv(\"dept.df_csv\", mode = \"overwrite\")\n",
    "\n",
    "source_df.write.json(\"source.df_json\", mode = \"overwrite\")\n",
    "source_df.write.csv(\"source.df_csv\", mode = \"overwrite\")\n",
    "\n",
    "# spark proceeds to create folders for each of these dataframes for their respective types. \n",
    "# furthermore, files are split into almost equally sized files instead of one consolidated\n",
    "# file."
   ]
  },
  {
   "cell_type": "code",
   "execution_count": 5,
   "id": "7994db70",
   "metadata": {},
   "outputs": [
    {
     "data": {
      "text/plain": [
       "[('case_id', 'int'),\n",
       " ('case_opened_date', 'string'),\n",
       " ('case_closed_date', 'string'),\n",
       " ('SLA_due_date', 'string'),\n",
       " ('case_late', 'string'),\n",
       " ('num_days_late', 'double'),\n",
       " ('case_closed', 'string'),\n",
       " ('dept_division', 'string'),\n",
       " ('service_request_type', 'string'),\n",
       " ('SLA_days', 'double'),\n",
       " ('case_status', 'string'),\n",
       " ('source_id', 'string'),\n",
       " ('request_address', 'string'),\n",
       " ('council_district', 'int')]"
      ]
     },
     "execution_count": 5,
     "metadata": {},
     "output_type": "execute_result"
    }
   ],
   "source": [
    "# inspect data in dataframes\n",
    "# case\n",
    "\n",
    "case_df.dtypes"
   ]
  },
  {
   "cell_type": "code",
   "execution_count": 6,
   "id": "6e41be08",
   "metadata": {},
   "outputs": [
    {
     "data": {
      "text/plain": [
       "[('dept_division', 'string'),\n",
       " ('dept_name', 'string'),\n",
       " ('standardized_dept_name', 'string'),\n",
       " ('dept_subject_to_SLA', 'string')]"
      ]
     },
     "execution_count": 6,
     "metadata": {},
     "output_type": "execute_result"
    }
   ],
   "source": [
    "# inspect data in dataframes\n",
    "# dept\n",
    "\n",
    "dept_df.dtypes"
   ]
  },
  {
   "cell_type": "code",
   "execution_count": 7,
   "id": "6cf4f287",
   "metadata": {},
   "outputs": [
    {
     "data": {
      "text/plain": [
       "[('source_id', 'string'), ('source_username', 'string')]"
      ]
     },
     "execution_count": 7,
     "metadata": {},
     "output_type": "execute_result"
    }
   ],
   "source": [
    "# inspect data in dataframes\n",
    "# source\n",
    "\n",
    "source_df.dtypes"
   ]
  },
  {
   "cell_type": "code",
   "execution_count": 8,
   "id": "edc5fd87",
   "metadata": {},
   "outputs": [],
   "source": [
    "# Rename column\n",
    "case_df = case_df.withColumnRenamed('SLA_due_date', 'case_due_date')\n",
    "\n",
    "# Convert to better data types\n",
    "case_df = (case_df.withColumn('case_late', col('case_late') == 'YES')\n",
    "    .withColumn('case_closed', col('case_closed') == 'YES')\n",
    ")\n",
    "case_df = case_df.withColumn('council_district', format_string('%04d', col('council_district')))\n",
    "case_df = (case_df.withColumn('case_opened_date', to_timestamp(col('case_opened_date'), 'M/d/yy H:mm'))\n",
    "    .withColumn('case_closed_date', to_timestamp(col('case_closed_date'), 'M/d/yy H:mm'))\n",
    "    .withColumn('case_due_date', to_timestamp(col('case_due_date'), 'M/d/yy H:mm'))\n",
    ")\n",
    "\n",
    "# Cleanup text data\n",
    "case_df = case_df.withColumn('request_address', lower(trim(col('request_address'))))\n",
    "# Extract zipcode\n",
    "case_df = case_df.withColumn('zipcode', regexp_extract(col('request_address'), r'\\d+$', 0))\n",
    "\n",
    "# Create a `case_lifetime` feature\n",
    "case_df = (\n",
    "    case_df.withColumn('case_age', datediff(current_timestamp(), 'case_opened_date'))\n",
    "    .withColumn('days_to_closed', datediff('case_closed_date', 'case_opened_date'))\n",
    "    .withColumn('case_lifetime', when(col('case_closed'), col('days_to_closed')).otherwise(col('case_age')))\n",
    "    .drop('case_age', 'days_to_closed')\n",
    ")\n",
    "\n",
    "# Join departments and sources\n",
    "df = case_df.join(dept_df, 'dept_division', 'left').join(source_df, 'source_id', 'left')"
   ]
  },
  {
   "cell_type": "code",
   "execution_count": null,
   "id": "d3adb7c5",
   "metadata": {},
   "outputs": [],
   "source": []
  },
  {
   "cell_type": "markdown",
   "id": "23671520",
   "metadata": {},
   "source": [
    "1. How old is the latest (in terms of days past SLA) currently open issue? How long has the oldest (in terms of days since opened) currently opened issue been open?"
   ]
  },
  {
   "cell_type": "code",
   "execution_count": 9,
   "id": "a967ffe9",
   "metadata": {},
   "outputs": [
    {
     "name": "stdout",
     "output_type": "stream",
     "text": [
      "-RECORD 0--------------------------------------\n",
      " source_id              | svcCRMLS             \n",
      " dept_division          | Field Operations     \n",
      " case_id                | 1014127332           \n",
      " case_opened_date       | 2018-01-01 00:42:00  \n",
      " case_closed_date       | 2018-01-01 12:29:00  \n",
      " case_due_date          | 2020-09-26 00:42:00  \n",
      " case_late              | false                \n",
      " num_days_late          | -998.5087616000001   \n",
      " case_closed            | true                 \n",
      " service_request_type   | Stray Animal         \n",
      " SLA_days               | 999.0                \n",
      " case_status            | Closed               \n",
      " request_address        | 2315  el paso st,... \n",
      " council_district       | 0005                 \n",
      " zipcode                | 78207                \n",
      " case_lifetime          | 0                    \n",
      " dept_name              | Animal Care Services \n",
      " standardized_dept_name | Animal Care Services \n",
      " dept_subject_to_SLA    | YES                  \n",
      " source_username        | svcCRMLS             \n",
      "only showing top 1 row\n",
      "\n"
     ]
    }
   ],
   "source": [
    "# How old is the latest (in terms of days past SLA) currently open issue?\n",
    "df.show(1, vertical = True)"
   ]
  },
  {
   "cell_type": "code",
   "execution_count": 14,
   "id": "050f64ed",
   "metadata": {},
   "outputs": [
    {
     "name": "stdout",
     "output_type": "stream",
     "text": [
      "+-------------+\n",
      "|days_past_due|\n",
      "+-------------+\n",
      "|         1856|\n",
      "|         1856|\n",
      "|         1856|\n",
      "|         1855|\n",
      "|         1853|\n",
      "+-------------+\n",
      "only showing top 5 rows\n",
      "\n"
     ]
    }
   ],
   "source": [
    "(df.select(datediff(current_timestamp(), 'case_due_date')\n",
    " .alias('days_past_due'))\n",
    " .where(df.case_closed == False)\n",
    " .sort(col('days_past_due').desc())\n",
    " .show(5)\n",
    ")"
   ]
  },
  {
   "cell_type": "code",
   "execution_count": 24,
   "id": "7b96c064",
   "metadata": {},
   "outputs": [
    {
     "name": "stdout",
     "output_type": "stream",
     "text": [
      "+----------------+\n",
      "|days_past_opened|\n",
      "+----------------+\n",
      "|            1872|\n",
      "|            1872|\n",
      "|            1871|\n",
      "|            1870|\n",
      "|            1869|\n",
      "+----------------+\n",
      "\n"
     ]
    }
   ],
   "source": [
    "#How long has the oldest (in terms of days since opened) currently opened issue been open?\n",
    "df.createOrReplaceTempView('df')\n",
    "\n",
    "spark.sql(\"\"\"\n",
    "SELECT DATEDIFF(current_timestamp, case_opened_date) AS days_past_opened\n",
    "FROM df\n",
    "WHERE NOT case_closed\n",
    "ORDER BY days_past_opened DESC\n",
    "LIMIT 5\n",
    "\"\"\").show()"
   ]
  },
  {
   "cell_type": "code",
   "execution_count": null,
   "id": "2be157e1",
   "metadata": {},
   "outputs": [],
   "source": []
  },
  {
   "cell_type": "markdown",
   "id": "5befd253",
   "metadata": {},
   "source": [
    "2. How many Stray Animal cases are there?"
   ]
  },
  {
   "cell_type": "code",
   "execution_count": 25,
   "id": "4d4d282e",
   "metadata": {
    "scrolled": true
   },
   "outputs": [
    {
     "name": "stdout",
     "output_type": "stream",
     "text": [
      "+--------------------+-----+\n",
      "|service_request_type|count|\n",
      "+--------------------+-----+\n",
      "|        Stray Animal|27361|\n",
      "+--------------------+-----+\n",
      "\n"
     ]
    }
   ],
   "source": [
    "(df.groupBy('service_request_type')\n",
    " .count()\n",
    " .filter(expr('service_request_type == \"Stray Animal\"'))\n",
    " .show()\n",
    ")"
   ]
  },
  {
   "cell_type": "code",
   "execution_count": null,
   "id": "cefeae3a",
   "metadata": {},
   "outputs": [],
   "source": []
  },
  {
   "cell_type": "markdown",
   "id": "86ed3370",
   "metadata": {},
   "source": [
    "3. How many service requests that are assigned to the Field Operations department (`dept_division`) are not classified as \"Officer Standby\" request type (`service_request_type`)?"
   ]
  },
  {
   "cell_type": "code",
   "execution_count": 26,
   "id": "5829da03",
   "metadata": {},
   "outputs": [
    {
     "data": {
      "text/plain": [
       "116295"
      ]
     },
     "execution_count": 26,
     "metadata": {},
     "output_type": "execute_result"
    }
   ],
   "source": [
    "(df.filter(df.dept_division == 'Field Operations')\n",
    " .filter(df.service_request_type != 'Officer Standby')\n",
    " .count()\n",
    ")"
   ]
  },
  {
   "cell_type": "code",
   "execution_count": null,
   "id": "97bcd42c",
   "metadata": {},
   "outputs": [],
   "source": []
  },
  {
   "cell_type": "markdown",
   "id": "5045a6e3",
   "metadata": {},
   "source": [
    "4. Convert the `council_district` column to a string column."
   ]
  },
  {
   "cell_type": "code",
   "execution_count": 20,
   "id": "1e1c14b1",
   "metadata": {},
   "outputs": [
    {
     "data": {
      "text/plain": [
       "[('source_id', 'string'),\n",
       " ('dept_division', 'string'),\n",
       " ('case_id', 'int'),\n",
       " ('case_opened_date', 'timestamp'),\n",
       " ('case_closed_date', 'timestamp'),\n",
       " ('case_due_date', 'timestamp'),\n",
       " ('case_late', 'boolean'),\n",
       " ('num_days_late', 'double'),\n",
       " ('case_closed', 'boolean'),\n",
       " ('service_request_type', 'string'),\n",
       " ('SLA_days', 'double'),\n",
       " ('case_status', 'string'),\n",
       " ('request_address', 'string'),\n",
       " ('council_district', 'string'),\n",
       " ('zipcode', 'string'),\n",
       " ('case_lifetime', 'int'),\n",
       " ('dept_name', 'string'),\n",
       " ('standardized_dept_name', 'string'),\n",
       " ('dept_subject_to_SLA', 'string'),\n",
       " ('source_username', 'string')]"
      ]
     },
     "execution_count": 20,
     "metadata": {},
     "output_type": "execute_result"
    }
   ],
   "source": [
    "df = df.withColumn('council_district', col('council_district').cast('string'))\n",
    "df.dtypes"
   ]
  },
  {
   "cell_type": "code",
   "execution_count": null,
   "id": "98280023",
   "metadata": {},
   "outputs": [],
   "source": []
  },
  {
   "cell_type": "markdown",
   "id": "4d47eb25",
   "metadata": {},
   "source": [
    "5. Extract the year from the `case_closed_date` column."
   ]
  },
  {
   "cell_type": "code",
   "execution_count": 28,
   "id": "a4a82cbd",
   "metadata": {},
   "outputs": [
    {
     "name": "stdout",
     "output_type": "stream",
     "text": [
      "+-------------------+----+\n",
      "|   case_closed_date|year|\n",
      "+-------------------+----+\n",
      "|2018-01-01 12:29:00|2018|\n",
      "|2018-01-03 08:11:00|2018|\n",
      "|2018-01-02 07:57:00|2018|\n",
      "|2018-01-02 08:13:00|2018|\n",
      "|2018-01-01 13:29:00|2018|\n",
      "+-------------------+----+\n",
      "only showing top 5 rows\n",
      "\n"
     ]
    }
   ],
   "source": [
    "(df.select('case_closed_date', year('case_closed_date').alias('year')).show(5)\n",
    ")"
   ]
  },
  {
   "cell_type": "code",
   "execution_count": null,
   "id": "77e75fe8",
   "metadata": {},
   "outputs": [],
   "source": []
  },
  {
   "cell_type": "markdown",
   "id": "08aa1e76",
   "metadata": {},
   "source": [
    "6. Convert `num_days_late` from days to hours in new columns num_hours_late."
   ]
  },
  {
   "cell_type": "code",
   "execution_count": 33,
   "id": "5ba70110",
   "metadata": {},
   "outputs": [
    {
     "name": "stdout",
     "output_type": "stream",
     "text": [
      "+-------------+--------------+\n",
      "|num_days_late|num_hours_late|\n",
      "+-------------+--------------+\n",
      "|      -998.51|     -23964.21|\n",
      "|        -2.01|         -48.3|\n",
      "|        -3.02|        -72.54|\n",
      "|       -15.01|       -360.28|\n",
      "|         0.37|          8.93|\n",
      "+-------------+--------------+\n",
      "only showing top 5 rows\n",
      "\n"
     ]
    }
   ],
   "source": [
    "(\n",
    "    df.withColumn('num_hours_late', df.num_days_late * 24)\n",
    "    .select(round('num_days_late', 2)\n",
    "            .alias('num_days_late'), round('num_hours_late', 2)\n",
    "            .alias('num_hours_late'))\n",
    "    .show(5)\n",
    ")"
   ]
  },
  {
   "cell_type": "code",
   "execution_count": null,
   "id": "5ca0ff3b",
   "metadata": {},
   "outputs": [],
   "source": []
  },
  {
   "cell_type": "markdown",
   "id": "fb9c7357",
   "metadata": {},
   "source": [
    "7. Join the case data with the source and department data."
   ]
  },
  {
   "cell_type": "code",
   "execution_count": null,
   "id": "918f6807",
   "metadata": {},
   "outputs": [],
   "source": [
    "#df = case_df.join(dept_df, 'dept_division', 'left').join(source_df, 'source_id', 'left')"
   ]
  },
  {
   "cell_type": "code",
   "execution_count": null,
   "id": "2d05bb58",
   "metadata": {},
   "outputs": [],
   "source": []
  },
  {
   "cell_type": "markdown",
   "id": "ff44fb43",
   "metadata": {},
   "source": [
    "8. Are there any cases that do not have a request source?"
   ]
  },
  {
   "cell_type": "code",
   "execution_count": 37,
   "id": "2fa650f3",
   "metadata": {},
   "outputs": [
    {
     "name": "stdout",
     "output_type": "stream",
     "text": [
      "+-------+\n",
      "|is_null|\n",
      "+-------+\n",
      "|      0|\n",
      "+-------+\n",
      "\n"
     ]
    }
   ],
   "source": [
    "(df.select(df.source_id\n",
    "           .isNull()\n",
    "           .cast('int')\n",
    "           .alias('is_null'))\n",
    "           .agg(sum('is_null').alias('is_null'))\n",
    "           .show()\n",
    ")"
   ]
  },
  {
   "cell_type": "code",
   "execution_count": null,
   "id": "2ca78a8c",
   "metadata": {},
   "outputs": [],
   "source": []
  },
  {
   "cell_type": "markdown",
   "id": "74dc1196",
   "metadata": {},
   "source": [
    "9. What are the top 10 service request types in terms of number of requests?"
   ]
  },
  {
   "cell_type": "code",
   "execution_count": 39,
   "id": "763dd232",
   "metadata": {},
   "outputs": [
    {
     "name": "stderr",
     "output_type": "stream",
     "text": [
      "\r",
      "[Stage 86:>                                                       (0 + 12) / 12]\r",
      "\r",
      "[Stage 86:====>                                                   (1 + 11) / 12]\r"
     ]
    },
    {
     "name": "stdout",
     "output_type": "stream",
     "text": [
      "+--------------------------------+--------------------+\n",
      "|service_request_type            |cnt_of_svc_rsqt_type|\n",
      "+--------------------------------+--------------------+\n",
      "|No Pickup                       |89210               |\n",
      "|Overgrown Yard/Trash            |66403               |\n",
      "|Bandit Signs                    |32968               |\n",
      "|Damaged Cart                    |31163               |\n",
      "|Front Or Side Yard Parking      |28920               |\n",
      "|Stray Animal                    |27361               |\n",
      "|Aggressive Animal(Non-Critical) |25492               |\n",
      "|Cart Exchange Request           |22608               |\n",
      "|Junk Vehicle On Private Property|21649               |\n",
      "|Pot Hole Repair                 |20827               |\n",
      "+--------------------------------+--------------------+\n",
      "only showing top 10 rows\n",
      "\n"
     ]
    },
    {
     "name": "stderr",
     "output_type": "stream",
     "text": [
      "\r",
      "                                                                                \r"
     ]
    }
   ],
   "source": [
    "(df.groupBy('service_request_type')\n",
    " .agg(count('service_request_type').alias('cnt_of_svc_rsqt_type'))\n",
    " .sort(col('cnt_of_svc_rsqt_type').desc())\n",
    " .show(10, truncate = False)\n",
    ")"
   ]
  },
  {
   "cell_type": "code",
   "execution_count": null,
   "id": "26e2b40d",
   "metadata": {},
   "outputs": [],
   "source": []
  },
  {
   "cell_type": "markdown",
   "id": "ceae416a",
   "metadata": {},
   "source": [
    "10. What are the top 10 service request types in terms of average days late?"
   ]
  },
  {
   "cell_type": "code",
   "execution_count": 44,
   "id": "bdd68813",
   "metadata": {},
   "outputs": [
    {
     "name": "stderr",
     "output_type": "stream",
     "text": [
      "\r",
      "[Stage 106:====>                                                  (1 + 11) / 12]\r"
     ]
    },
    {
     "name": "stdout",
     "output_type": "stream",
     "text": [
      "+--------------------------------------+---------+-------------+---------+\n",
      "|service_request_type                  |case_late|avg_days_late|cnt_cases|\n",
      "+--------------------------------------+---------+-------------+---------+\n",
      "|Zoning: Recycle Yard                  |true     |210.89       |132      |\n",
      "|Zoning: Junk Yards                    |true     |200.21       |262      |\n",
      "|Structure/Housing Maintenance         |true     |190.21       |51       |\n",
      "|Donation Container Enforcement        |true     |171.09       |122      |\n",
      "|Storage of Used Mattress              |true     |163.97       |7        |\n",
      "|Labeling for Used Mattress            |true     |162.43       |7        |\n",
      "|Record Keeping of Used Mattresses     |true     |154.0        |7        |\n",
      "|Signage Requied for Sale of Used Mattr|true     |151.64       |12       |\n",
      "|Traffic Signal Graffiti               |true     |137.65       |4        |\n",
      "|License Requied Used Mattress Sales   |true     |128.8        |7        |\n",
      "+--------------------------------------+---------+-------------+---------+\n",
      "only showing top 10 rows\n",
      "\n"
     ]
    },
    {
     "name": "stderr",
     "output_type": "stream",
     "text": [
      "\r",
      "                                                                                \r"
     ]
    }
   ],
   "source": [
    "(df.groupBy('service_request_type', 'case_late')\n",
    " .agg(round(avg('num_days_late'), 2).alias('avg_days_late'),\n",
    "     count('num_days_late').alias('cnt_cases'))\n",
    " .filter(df.case_late == 'true')\n",
    " .sort(col('avg_days_late').desc())\n",
    " .show(10, truncate = False)\n",
    ")"
   ]
  },
  {
   "cell_type": "code",
   "execution_count": null,
   "id": "5a31c622",
   "metadata": {},
   "outputs": [],
   "source": []
  },
  {
   "cell_type": "markdown",
   "id": "81043f06",
   "metadata": {},
   "source": [
    "11. Does number of days late depend on department?"
   ]
  },
  {
   "cell_type": "code",
   "execution_count": 47,
   "id": "e2a34d51",
   "metadata": {},
   "outputs": [
    {
     "name": "stdout",
     "output_type": "stream",
     "text": [
      "+-------------------------+---------+------------+\n",
      "|dept_name                |days_late|n_cases_late|\n",
      "+-------------------------+---------+------------+\n",
      "|Metro Health             |6.49     |854         |\n",
      "|Solid Waste Management   |7.15     |33729       |\n",
      "|Trans & Cap Improvements |10.66    |5529        |\n",
      "|Parks and Recreation     |22.43    |3810        |\n",
      "|Animal Care Services     |23.45    |23751       |\n",
      "|Code Enforcement Services|48.09    |25467       |\n",
      "|Development Services     |67.22    |840         |\n",
      "|Customer Service         |88.18    |2035        |\n",
      "|null                     |210.89   |132         |\n",
      "+-------------------------+---------+------------+\n",
      "\n"
     ]
    }
   ],
   "source": [
    "(df.filter('case_late')\n",
    " .groupBy('dept_name')\n",
    " .agg(mean('num_days_late').alias('days_late'), count('num_days_late').alias('n_cases_late'))\n",
    " .sort('days_late')\n",
    " .withColumn('days_late', round(col('days_late'), 2))\n",
    " .show(truncate = False)\n",
    ")"
   ]
  },
  {
   "cell_type": "code",
   "execution_count": null,
   "id": "c3921687",
   "metadata": {},
   "outputs": [],
   "source": []
  },
  {
   "cell_type": "markdown",
   "id": "cdc94329",
   "metadata": {},
   "source": [
    "12. How do number of days late depend on department and request type?"
   ]
  },
  {
   "cell_type": "code",
   "execution_count": 49,
   "id": "2e5089d0",
   "metadata": {},
   "outputs": [
    {
     "name": "stderr",
     "output_type": "stream",
     "text": [
      "[Stage 121:====>                                                  (1 + 11) / 12]\r"
     ]
    },
    {
     "name": "stdout",
     "output_type": "stream",
     "text": [
      "+-------------------------+----------------------------------------+---------+--------+\n",
      "|dept_name                |service_request_type                    |days_late|case_cnt|\n",
      "+-------------------------+----------------------------------------+---------+--------+\n",
      "|Code Enforcement Services|Zoning: Junk Yards                      |209.4    |174     |\n",
      "|Code Enforcement Services|Labeling for Used Mattress              |162.43   |7       |\n",
      "|Code Enforcement Services|Record Keeping of Used Mattresses       |154.0    |7       |\n",
      "|Code Enforcement Services|Signage Requied for Sale of Used Mattr  |151.64   |12      |\n",
      "|Code Enforcement Services|Storage of Used Mattress                |142.11   |8       |\n",
      "|Code Enforcement Services|Donation Container Enforcement          |141.27   |114     |\n",
      "|null                     |Zoning: Recycle Yard                    |138.98   |141     |\n",
      "|Code Enforcement Services|License Requied Used Mattress Sales     |128.8    |7       |\n",
      "|Code Enforcement Services|Vendors                                 |65.27    |184     |\n",
      "|Customer Service         |Complaint                               |59.87    |1250    |\n",
      "|Solid Waste Management   |Contracted Service Issues               |56.72    |12      |\n",
      "|Code Enforcement Services|Curbstoning                             |55.06    |200     |\n",
      "|Code Enforcement Services|No Address Posted                       |51.37    |1011    |\n",
      "|Development Services     |Street Light New Development            |30.9     |27      |\n",
      "|Code Enforcement Services|Used Mattress Inspection                |30.17    |49      |\n",
      "|Solid Waste Management   |Service Information                     |26.41    |152     |\n",
      "|Animal Care Services     |Animal Permits Request                  |22.12    |3001    |\n",
      "|Solid Waste Management   |Solid Waste Fees and Charges            |21.49    |4702    |\n",
      "|Animal Care Services     |Aggressive Animal(Critical)             |16.72    |5230    |\n",
      "|Code Enforcement Services|Emergency: Main and Accessory Structures|16.44    |26      |\n",
      "|Parks and Recreation     |Sportfield Lighting                     |15.52    |533     |\n",
      "|Code Enforcement Services|Historical Building (No Permits)        |15.02    |9       |\n",
      "|Development Services     |Street Light Existing Res Sub Div       |14.9     |633     |\n",
      "|Solid Waste Management   |Organics Info / Literature Request      |14.67    |1162    |\n",
      "|Parks and Recreation     |Park Building Maint Invest              |13.85    |43      |\n",
      "|Solid Waste Management   |Cart Placement                          |10.35    |1192    |\n",
      "|Trans & Cap Improvements |Speed Hump Repairs - Emergency          |10.27    |531     |\n",
      "|Solid Waste Management   |Disability Service Requested            |9.1      |826     |\n",
      "|Code Enforcement Services|Emergency: Accessory Structure Only     |8.81     |10      |\n",
      "|Parks and Recreation     |Electrical                              |8.25     |1145    |\n",
      "|Animal Care Services     |Animal Neglect                          |7.31     |13736   |\n",
      "|Trans & Cap Improvements |Status: On-Going CIMS Projects          |6.29     |356     |\n",
      "|Parks and Recreation     |Tree Removal                            |6.18     |289     |\n",
      "|Code Enforcement Services|Emergency: Main Structure Only          |5.32     |43      |\n",
      "|Solid Waste Management   |Alley Problems                          |4.55     |58      |\n",
      "|Parks and Recreation     |Painting                                |4.39     |280     |\n",
      "|Parks and Recreation     |Masonry                                 |4.3      |441     |\n",
      "|Parks and Recreation     |Tree Trimming/Maintenance               |4.3      |529     |\n",
      "|Parks and Recreation     |Sign Maintenance                        |4.14     |82      |\n",
      "|Solid Waste Management   |Request for Commercial Service          |4.08     |332     |\n",
      "+-------------------------+----------------------------------------+---------+--------+\n",
      "only showing top 40 rows\n",
      "\n"
     ]
    },
    {
     "name": "stderr",
     "output_type": "stream",
     "text": [
      "\r",
      "                                                                                \r"
     ]
    }
   ],
   "source": [
    "(df.filter('case_closed')\n",
    " .groupBy('dept_name', 'service_request_type')\n",
    " .agg(avg('num_days_late').alias('days_late'), count('*').alias('case_cnt'))\n",
    " .withColumn('days_late', round(col('days_late'), 2))\n",
    " .where(col('days_late') > 0)\n",
    " .sort(desc('days_late'))\n",
    " .show(40, truncate = False)\n",
    ")"
   ]
  },
  {
   "cell_type": "code",
   "execution_count": null,
   "id": "e9f8f891",
   "metadata": {},
   "outputs": [],
   "source": []
  }
 ],
 "metadata": {
  "kernelspec": {
   "display_name": "Python 3 (ipykernel)",
   "language": "python",
   "name": "python3"
  },
  "language_info": {
   "codemirror_mode": {
    "name": "ipython",
    "version": 3
   },
   "file_extension": ".py",
   "mimetype": "text/x-python",
   "name": "python",
   "nbconvert_exporter": "python",
   "pygments_lexer": "ipython3",
   "version": "3.7.3"
  }
 },
 "nbformat": 4,
 "nbformat_minor": 5
}

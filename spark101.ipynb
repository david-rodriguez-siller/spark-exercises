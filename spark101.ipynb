{
 "cells": [
  {
   "cell_type": "markdown",
   "id": "9a793b5a",
   "metadata": {},
   "source": [
    "### Spark Exercises\n",
    "\n",
    "Within your `codeup-data-science` directory, create a new repo named `spark-exercises`. This will be where you do your work for this module. Create a repository on GitHub with the same name, and link your local repository to GitHub.\n",
    "\n",
    "Save this work in your `spark-exercises` repo. Then add, commit, and push your changes.\n",
    "\n",
    "Create a jupyter notebook or python script named `spark101` for this exercise."
   ]
  },
  {
   "cell_type": "code",
   "execution_count": 2,
   "id": "1901b94d",
   "metadata": {},
   "outputs": [],
   "source": [
    "import pyspark\n",
    "import pandas as pd\n",
    "import numpy as np\n",
    "from pydataset import data\n",
    "from pyspark.sql.functions import col, expr\n",
    "#from pyspark.sql.functions import concat, su, avg, min, max, count, mean\n",
    "from pyspark.sql.functions import lit\n",
    "from pyspark.sql.functions import regexp_extract, regexp_replace\n",
    "from pyspark.sql.functions import when\n",
    "from pyspark.sql.functions import asc, desc\n",
    "from pyspark.sql.functions import month, year, quarter\n"
   ]
  },
  {
   "cell_type": "markdown",
   "id": "163c8c83",
   "metadata": {},
   "source": [
    "1. Create a spark data frame that contains your favorite programming languages.\n",
    "\n",
    "    - The name of the column should be `language`\n",
    "    - View the schema of the dataframe\n",
    "    - Output the shape of the dataframe\n",
    "    - Show the first 5 records in the dataframe"
   ]
  },
  {
   "cell_type": "code",
   "execution_count": 4,
   "id": "f731e203",
   "metadata": {},
   "outputs": [
    {
     "name": "stderr",
     "output_type": "stream",
     "text": [
      "WARNING: An illegal reflective access operation has occurred\n",
      "WARNING: Illegal reflective access by org.apache.spark.unsafe.Platform (file:/Users/davidrodriguez/anaconda3/lib/python3.7/site-packages/pyspark/jars/spark-unsafe_2.12-3.2.1.jar) to constructor java.nio.DirectByteBuffer(long,int)\n",
      "WARNING: Please consider reporting this to the maintainers of org.apache.spark.unsafe.Platform\n",
      "WARNING: Use --illegal-access=warn to enable warnings of further illegal reflective access operations\n",
      "WARNING: All illegal access operations will be denied in a future release\n",
      "Using Spark's default log4j profile: org/apache/spark/log4j-defaults.properties\n",
      "Setting default log level to \"WARN\".\n",
      "To adjust logging level use sc.setLogLevel(newLevel). For SparkR, use setLogLevel(newLevel).\n",
      "22/02/11 13:48:12 WARN NativeCodeLoader: Unable to load native-hadoop library for your platform... using builtin-java classes where applicable\n",
      "22/02/11 13:48:13 WARN Utils: Service 'SparkUI' could not bind on port 4040. Attempting port 4041.\n"
     ]
    },
    {
     "data": {
      "text/plain": [
       "DataFrame[language: string]"
      ]
     },
     "execution_count": 4,
     "metadata": {},
     "output_type": "execute_result"
    }
   ],
   "source": [
    "np.random.seed(456)\n",
    "\n",
    "pl_df = pd.DataFrame(np.random.choice(['python', 'sql', 'java', 'c', 'r'], 20))\n",
    "pl_df.columns = ['language']\n",
    "spark = pyspark.sql.SparkSession.builder.getOrCreate()\n",
    "df = spark.createDataFrame(pl_df)\n",
    "df"
   ]
  },
  {
   "cell_type": "code",
   "execution_count": 6,
   "id": "202c489c",
   "metadata": {},
   "outputs": [
    {
     "name": "stdout",
     "output_type": "stream",
     "text": [
      "root\n",
      " |-- language: string (nullable = true)\n",
      "\n"
     ]
    }
   ],
   "source": [
    "df.printSchema()"
   ]
  },
  {
   "cell_type": "code",
   "execution_count": 8,
   "id": "f0c246b3",
   "metadata": {},
   "outputs": [
    {
     "name": "stdout",
     "output_type": "stream",
     "text": [
      "DataFrame shape:  20  x  1\n"
     ]
    }
   ],
   "source": [
    "print('DataFrame shape: ', df.count(), ' x ', len(df.columns))"
   ]
  },
  {
   "cell_type": "code",
   "execution_count": 9,
   "id": "76952ef6",
   "metadata": {},
   "outputs": [
    {
     "name": "stdout",
     "output_type": "stream",
     "text": [
      "+--------+\n",
      "|language|\n",
      "+--------+\n",
      "|       c|\n",
      "|       c|\n",
      "|     sql|\n",
      "|    java|\n",
      "|       r|\n",
      "+--------+\n",
      "only showing top 5 rows\n",
      "\n"
     ]
    }
   ],
   "source": [
    "df.show(5)"
   ]
  },
  {
   "cell_type": "code",
   "execution_count": null,
   "id": "27ce8336",
   "metadata": {},
   "outputs": [],
   "source": []
  },
  {
   "cell_type": "markdown",
   "id": "518dfbb4",
   "metadata": {},
   "source": [
    "2. Load the `mpg` dataset as a spark dataframe.\n",
    "\n",
    "    a. For each vehicle, create 1 column of output that contains a message like the one below:\n",
    "    \n",
    "   > - The 1999 audi a4 has a 4 cylinder engine.\n",
    "   \n",
    "    b. Transform the `trans` column so that it only contains either `manual` or `auto`."
   ]
  },
  {
   "cell_type": "code",
   "execution_count": 10,
   "id": "da1cb812",
   "metadata": {},
   "outputs": [
    {
     "name": "stdout",
     "output_type": "stream",
     "text": [
      "+------------+-----+-----+----+---+----------+---+---+---+---+-------+\n",
      "|manufacturer|model|displ|year|cyl|     trans|drv|cty|hwy| fl|  class|\n",
      "+------------+-----+-----+----+---+----------+---+---+---+---+-------+\n",
      "|        audi|   a4|  1.8|1999|  4|  auto(l5)|  f| 18| 29|  p|compact|\n",
      "|        audi|   a4|  1.8|1999|  4|manual(m5)|  f| 21| 29|  p|compact|\n",
      "|        audi|   a4|  2.0|2008|  4|manual(m6)|  f| 20| 31|  p|compact|\n",
      "|        audi|   a4|  2.0|2008|  4|  auto(av)|  f| 21| 30|  p|compact|\n",
      "|        audi|   a4|  2.8|1999|  6|  auto(l5)|  f| 16| 26|  p|compact|\n",
      "+------------+-----+-----+----+---+----------+---+---+---+---+-------+\n",
      "only showing top 5 rows\n",
      "\n"
     ]
    }
   ],
   "source": [
    "mpg = spark.createDataFrame(data(\"mpg\"))\n",
    "mpg.show(5)"
   ]
  },
  {
   "cell_type": "code",
   "execution_count": 24,
   "id": "6cb7343d",
   "metadata": {},
   "outputs": [],
   "source": [
    "desc_column = mpg.select(concat(lit('The '),mpg.year, lit(' '), mpg.manufacturer, lit(' '), mpg.model, lit(' has a '), mpg.cyl, lit(' cylinder engine.')).alias('description'))"
   ]
  },
  {
   "cell_type": "code",
   "execution_count": 25,
   "id": "a932a279",
   "metadata": {},
   "outputs": [
    {
     "name": "stdout",
     "output_type": "stream",
     "text": [
      "+-----------------------------------------+\n",
      "|description                              |\n",
      "+-----------------------------------------+\n",
      "|The 1999 audi a4 has a 4 cylinder engine.|\n",
      "|The 1999 audi a4 has a 4 cylinder engine.|\n",
      "|The 2008 audi a4 has a 4 cylinder engine.|\n",
      "|The 2008 audi a4 has a 4 cylinder engine.|\n",
      "|The 1999 audi a4 has a 6 cylinder engine.|\n",
      "+-----------------------------------------+\n",
      "only showing top 5 rows\n",
      "\n"
     ]
    }
   ],
   "source": [
    "desc_column.show(5, truncate = False)"
   ]
  },
  {
   "cell_type": "code",
   "execution_count": 30,
   "id": "09885fad",
   "metadata": {},
   "outputs": [
    {
     "name": "stdout",
     "output_type": "stream",
     "text": [
      "+----------+---------------------------------+\n",
      "|     trans|regexp_replace(trans, \\(.+$, , 1)|\n",
      "+----------+---------------------------------+\n",
      "|  auto(l5)|                             auto|\n",
      "|manual(m5)|                           manual|\n",
      "|manual(m6)|                           manual|\n",
      "|  auto(av)|                             auto|\n",
      "|  auto(l5)|                             auto|\n",
      "|manual(m5)|                           manual|\n",
      "|  auto(av)|                             auto|\n",
      "|manual(m5)|                           manual|\n",
      "|  auto(l5)|                             auto|\n",
      "|manual(m6)|                           manual|\n",
      "|  auto(s6)|                             auto|\n",
      "|  auto(l5)|                             auto|\n",
      "|manual(m5)|                           manual|\n",
      "|  auto(s6)|                             auto|\n",
      "|manual(m6)|                           manual|\n",
      "|  auto(l5)|                             auto|\n",
      "|  auto(s6)|                             auto|\n",
      "|  auto(s6)|                             auto|\n",
      "|  auto(l4)|                             auto|\n",
      "|  auto(l4)|                             auto|\n",
      "+----------+---------------------------------+\n",
      "only showing top 20 rows\n",
      "\n"
     ]
    }
   ],
   "source": [
    "mpg.select('trans', regexp_replace('trans', r\"\\(.+$\", \"\")).show()"
   ]
  },
  {
   "cell_type": "code",
   "execution_count": null,
   "id": "cb4d228d",
   "metadata": {},
   "outputs": [],
   "source": []
  },
  {
   "cell_type": "markdown",
   "id": "c0447057",
   "metadata": {},
   "source": [
    "3. Load the `tips` dataset as a spark dataframe.\n",
    "\n",
    " a. What percentage of observations are smokers?\n",
    "\n",
    " b. Create a column that contains the tip percentage\n",
    "\n",
    " c. Calculate the average tip percentage for each combination of sex and smoker."
   ]
  },
  {
   "cell_type": "code",
   "execution_count": 32,
   "id": "93c0f44c",
   "metadata": {},
   "outputs": [
    {
     "name": "stdout",
     "output_type": "stream",
     "text": [
      "+----------+----+------+------+---+------+----+\n",
      "|total_bill| tip|   sex|smoker|day|  time|size|\n",
      "+----------+----+------+------+---+------+----+\n",
      "|     16.99|1.01|Female|    No|Sun|Dinner|   2|\n",
      "|     10.34|1.66|  Male|    No|Sun|Dinner|   3|\n",
      "|     21.01| 3.5|  Male|    No|Sun|Dinner|   3|\n",
      "|     23.68|3.31|  Male|    No|Sun|Dinner|   2|\n",
      "|     24.59|3.61|Female|    No|Sun|Dinner|   4|\n",
      "+----------+----+------+------+---+------+----+\n",
      "only showing top 5 rows\n",
      "\n"
     ]
    }
   ],
   "source": [
    "tips = spark.createDataFrame(data(\"tips\"))\n",
    "tips.show(5)"
   ]
  },
  {
   "cell_type": "code",
   "execution_count": null,
   "id": "e27d3a10",
   "metadata": {},
   "outputs": [],
   "source": []
  },
  {
   "cell_type": "code",
   "execution_count": null,
   "id": "413d9607",
   "metadata": {},
   "outputs": [],
   "source": []
  },
  {
   "cell_type": "code",
   "execution_count": null,
   "id": "6a84aa12",
   "metadata": {},
   "outputs": [],
   "source": []
  },
  {
   "cell_type": "markdown",
   "id": "92077ac1",
   "metadata": {},
   "source": [
    "4. Use the seattle weather dataset referenced in the lesson to answer the questions below.\n",
    "\n",
    " - Convert the temperatures to fahrenheit.\n",
    " - Which month has the most rain, on average?\n",
    " - Which year was the windiest?\n",
    " - What is the most frequent type of weather in January?\n",
    " - What is the average high and low temperature on sunny days in July in 2013 and 2014?\n",
    " - What percentage of days were rainy in q3 of 2015?\n",
    " - For each year, find what percentage of days it rained (had non-zero precipitation)."
   ]
  },
  {
   "cell_type": "code",
   "execution_count": null,
   "id": "9266365c",
   "metadata": {},
   "outputs": [],
   "source": []
  },
  {
   "cell_type": "code",
   "execution_count": null,
   "id": "93e0e713",
   "metadata": {},
   "outputs": [],
   "source": []
  },
  {
   "cell_type": "code",
   "execution_count": null,
   "id": "9c123e54",
   "metadata": {},
   "outputs": [],
   "source": []
  }
 ],
 "metadata": {
  "kernelspec": {
   "display_name": "Python 3 (ipykernel)",
   "language": "python",
   "name": "python3"
  },
  "language_info": {
   "codemirror_mode": {
    "name": "ipython",
    "version": 3
   },
   "file_extension": ".py",
   "mimetype": "text/x-python",
   "name": "python",
   "nbconvert_exporter": "python",
   "pygments_lexer": "ipython3",
   "version": "3.7.3"
  }
 },
 "nbformat": 4,
 "nbformat_minor": 5
}

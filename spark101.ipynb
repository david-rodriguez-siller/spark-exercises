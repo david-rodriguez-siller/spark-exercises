{
 "cells": [
  {
   "cell_type": "markdown",
   "id": "00a3be05",
   "metadata": {},
   "source": [
    "### Spark Exercises\n",
    "\n",
    "Within your `codeup-data-science` directory, create a new repo named `spark-exercises`. This will be where you do your work for this module. Create a repository on GitHub with the same name, and link your local repository to GitHub.\n",
    "\n",
    "Save this work in your `spark-exercises` repo. Then add, commit, and push your changes.\n",
    "\n",
    "Create a jupyter notebook or python script named `spark101` for this exercise."
   ]
  },
  {
   "cell_type": "code",
   "execution_count": 1,
   "id": "e06d9a3e",
   "metadata": {},
   "outputs": [],
   "source": [
    "import pyspark\n",
    "import pandas as pd\n",
    "import numpy as np\n",
    "from pydataset import data\n",
    "from pyspark.sql.functions import col, expr\n",
    "from pyspark.sql.functions import concat, su, avg, min, max, count, mean\n",
    "from pyspark.sql.functions import lit\n",
    "from pyspark.sql.functions import regexp_extract, regexp_replace\n",
    "from pyspark.sql.functions import when\n",
    "from pyspark.sql.functions import asc, desc\n",
    "from pyspark.sql.functions import month, year, quarter\n"
   ]
  },
  {
   "cell_type": "markdown",
   "id": "3fe3167b",
   "metadata": {},
   "source": [
    "1. Create a spark data frame that contains your favorite programming languages.\n",
    "\n",
    "    - The name of the column should be `language`\n",
    "    - View the schema of the dataframe\n",
    "    - Output the shape of the dataframe\n",
    "    - Show the first 5 records in the dataframe"
   ]
  },
  {
   "cell_type": "code",
   "execution_count": null,
   "id": "498ae58b",
   "metadata": {},
   "outputs": [],
   "source": []
  },
  {
   "cell_type": "code",
   "execution_count": null,
   "id": "8fa6c6dc",
   "metadata": {},
   "outputs": [],
   "source": []
  },
  {
   "cell_type": "markdown",
   "id": "c2e649d2",
   "metadata": {},
   "source": [
    "2. Load the `mpg` dataset as a spark dataframe.\n",
    "\n",
    "    a. Create 1 column of output that contains a message like the one below:\n",
    "    \n",
    "   > - The 1999 audi a4 has a 4 cylinder engine.\n",
    "   > - For each vehicle.\n",
    "\n",
    "    b. Transform the `trans` column so that it only contains either `manual` or `auto`."
   ]
  },
  {
   "cell_type": "code",
   "execution_count": null,
   "id": "996f345e",
   "metadata": {},
   "outputs": [],
   "source": []
  },
  {
   "cell_type": "code",
   "execution_count": null,
   "id": "0b7cf0eb",
   "metadata": {},
   "outputs": [],
   "source": []
  },
  {
   "cell_type": "markdown",
   "id": "36c5b1ce",
   "metadata": {},
   "source": [
    "3. Load the `tips` dataset as a spark dataframe.\n",
    "\n",
    " a. What percentage of observations are smokers?\n",
    "\n",
    " b. Create a column that contains the tip percentage\n",
    "\n",
    " c. Calculate the average tip percentage for each combination of sex and smoker."
   ]
  },
  {
   "cell_type": "code",
   "execution_count": null,
   "id": "0277a43b",
   "metadata": {},
   "outputs": [],
   "source": []
  },
  {
   "cell_type": "code",
   "execution_count": null,
   "id": "efb2b0e5",
   "metadata": {},
   "outputs": [],
   "source": []
  },
  {
   "cell_type": "markdown",
   "id": "fe473b4b",
   "metadata": {},
   "source": [
    "4. Use the seattle weather dataset referenced in the lesson to answer the questions below.\n",
    "\n",
    " - Convert the temperatures to fahrenheit.\n",
    " - Which month has the most rain, on average?\n",
    " - Which year was the windiest?\n",
    " - What is the most frequent type of weather in January?\n",
    " - What is the average high and low temperature on sunny days in July in 2013 and 2014?\n",
    " - What percentage of days were rainy in q3 of 2015?\n",
    " - For each year, find what percentage of days it rained (had non-zero precipitation)."
   ]
  },
  {
   "cell_type": "code",
   "execution_count": null,
   "id": "45956a17",
   "metadata": {},
   "outputs": [],
   "source": []
  },
  {
   "cell_type": "code",
   "execution_count": null,
   "id": "dce21d62",
   "metadata": {},
   "outputs": [],
   "source": []
  },
  {
   "cell_type": "code",
   "execution_count": null,
   "id": "660f54d9",
   "metadata": {},
   "outputs": [],
   "source": []
  },
  {
   "cell_type": "code",
   "execution_count": null,
   "id": "47bc5277",
   "metadata": {},
   "outputs": [],
   "source": []
  }
 ],
 "metadata": {
  "kernelspec": {
   "display_name": "Python 3 (ipykernel)",
   "language": "python",
   "name": "python3"
  },
  "language_info": {
   "codemirror_mode": {
    "name": "ipython",
    "version": 3
   },
   "file_extension": ".py",
   "mimetype": "text/x-python",
   "name": "python",
   "nbconvert_exporter": "python",
   "pygments_lexer": "ipython3",
   "version": "3.7.3"
  }
 },
 "nbformat": 4,
 "nbformat_minor": 5
}

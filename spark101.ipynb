{
 "cells": [
  {
   "cell_type": "markdown",
   "id": "25d9616f",
   "metadata": {},
   "source": [
    "### Spark Exercises\n",
    "\n",
    "Within your `codeup-data-science` directory, create a new repo named `spark-exercises`. This will be where you do your work for this module. Create a repository on GitHub with the same name, and link your local repository to GitHub.\n",
    "\n",
    "Save this work in your `spark-exercises` repo. Then add, commit, and push your changes.\n",
    "\n",
    "Create a jupyter notebook or python script named `spark101` for this exercise."
   ]
  },
  {
   "cell_type": "code",
   "execution_count": 1,
   "id": "6bb65c6b",
   "metadata": {},
   "outputs": [],
   "source": [
    "import pyspark\n",
    "import pandas as pd\n",
    "import numpy as np\n",
    "\n",
    "from pyspark.sql.functions import col, expr\n",
    "from pyspark.sql.functions import lit\n",
    "from pyspark.sql.functions import regexp_extract, regexp_replace\n",
    "from pyspark.sql.functions import when\n",
    "from pyspark.sql.functions import asc, desc\n",
    "from pyspark.sql.functions import month, year, quarter\n",
    "from pyspark.sql.functions import *\n",
    "\n"
   ]
  },
  {
   "cell_type": "markdown",
   "id": "352c098d",
   "metadata": {},
   "source": [
    "1. Create a spark data frame that contains your favorite programming languages.\n",
    "\n",
    "    - The name of the column should be `language`\n",
    "    - View the schema of the dataframe\n",
    "    - Output the shape of the dataframe\n",
    "    - Show the first 5 records in the dataframe"
   ]
  },
  {
   "cell_type": "code",
   "execution_count": 3,
   "id": "34fdfda6",
   "metadata": {},
   "outputs": [
    {
     "data": {
      "text/plain": [
       "DataFrame[language: string]"
      ]
     },
     "execution_count": 3,
     "metadata": {},
     "output_type": "execute_result"
    }
   ],
   "source": [
    "np.random.seed(456)\n",
    "\n",
    "pl_df = pd.DataFrame(np.random.choice(['python', 'sql', 'java', 'c', 'r'], 20))\n",
    "pl_df.columns = ['language']\n",
    "spark = pyspark.sql.SparkSession.builder.getOrCreate()\n",
    "df = spark.createDataFrame(pl_df)\n",
    "df"
   ]
  },
  {
   "cell_type": "code",
   "execution_count": 4,
   "id": "2bcca9d9",
   "metadata": {},
   "outputs": [
    {
     "name": "stdout",
     "output_type": "stream",
     "text": [
      "root\n",
      " |-- language: string (nullable = true)\n",
      "\n"
     ]
    }
   ],
   "source": [
    "df.printSchema()"
   ]
  },
  {
   "cell_type": "code",
   "execution_count": 7,
   "id": "754a76a3",
   "metadata": {},
   "outputs": [
    {
     "name": "stdout",
     "output_type": "stream",
     "text": [
      "DataFrame shape:  20  x  1\n"
     ]
    }
   ],
   "source": [
    "print('DataFrame shape: ', df.count(), ' x ', len(df.columns))"
   ]
  },
  {
   "cell_type": "code",
   "execution_count": 8,
   "id": "d7c13ba8",
   "metadata": {},
   "outputs": [
    {
     "name": "stdout",
     "output_type": "stream",
     "text": [
      "+--------+\n",
      "|language|\n",
      "+--------+\n",
      "|       c|\n",
      "|       c|\n",
      "|     sql|\n",
      "|    java|\n",
      "|       r|\n",
      "+--------+\n",
      "only showing top 5 rows\n",
      "\n"
     ]
    }
   ],
   "source": [
    "df.show(5)"
   ]
  },
  {
   "cell_type": "code",
   "execution_count": null,
   "id": "1b9eb5c6",
   "metadata": {},
   "outputs": [],
   "source": []
  },
  {
   "cell_type": "markdown",
   "id": "30649a00",
   "metadata": {},
   "source": [
    "2. Load the `mpg` dataset as a spark dataframe.\n",
    "\n",
    "    a. For each vehicle, create 1 column of output that contains a message like the one below:\n",
    "    \n",
    "   > - The 1999 audi a4 has a 4 cylinder engine.\n",
    "  "
   ]
  },
  {
   "cell_type": "code",
   "execution_count": 9,
   "id": "95e8b4f6",
   "metadata": {},
   "outputs": [
    {
     "name": "stdout",
     "output_type": "stream",
     "text": [
      "+------------+-----+-----+----+---+----------+---+---+---+---+-------+\n",
      "|manufacturer|model|displ|year|cyl|     trans|drv|cty|hwy| fl|  class|\n",
      "+------------+-----+-----+----+---+----------+---+---+---+---+-------+\n",
      "|        audi|   a4|  1.8|1999|  4|  auto(l5)|  f| 18| 29|  p|compact|\n",
      "|        audi|   a4|  1.8|1999|  4|manual(m5)|  f| 21| 29|  p|compact|\n",
      "|        audi|   a4|  2.0|2008|  4|manual(m6)|  f| 20| 31|  p|compact|\n",
      "|        audi|   a4|  2.0|2008|  4|  auto(av)|  f| 21| 30|  p|compact|\n",
      "|        audi|   a4|  2.8|1999|  6|  auto(l5)|  f| 16| 26|  p|compact|\n",
      "+------------+-----+-----+----+---+----------+---+---+---+---+-------+\n",
      "only showing top 5 rows\n",
      "\n"
     ]
    }
   ],
   "source": [
    "from pydataset import data\n",
    "\n",
    "mpg = spark.createDataFrame(data('mpg'))\n",
    "mpg.show(5)"
   ]
  },
  {
   "cell_type": "code",
   "execution_count": 10,
   "id": "d58c08bc",
   "metadata": {},
   "outputs": [],
   "source": [
    "desc_column = mpg.select(\n",
    "    concat(lit('The '), \n",
    "    mpg.year, lit(' '), \n",
    "    mpg.manufacturer, \n",
    "    lit(' '), \n",
    "    mpg.model, \n",
    "    lit(' has a '), \n",
    "    mpg.cyl, \n",
    "    lit(' cylinder engine.')).alias('description'))"
   ]
  },
  {
   "cell_type": "code",
   "execution_count": 11,
   "id": "cf131552",
   "metadata": {},
   "outputs": [
    {
     "name": "stdout",
     "output_type": "stream",
     "text": [
      "+-----------------------------------------+\n",
      "|description                              |\n",
      "+-----------------------------------------+\n",
      "|The 1999 audi a4 has a 4 cylinder engine.|\n",
      "|The 1999 audi a4 has a 4 cylinder engine.|\n",
      "|The 2008 audi a4 has a 4 cylinder engine.|\n",
      "|The 2008 audi a4 has a 4 cylinder engine.|\n",
      "|The 1999 audi a4 has a 6 cylinder engine.|\n",
      "+-----------------------------------------+\n",
      "only showing top 5 rows\n",
      "\n"
     ]
    }
   ],
   "source": [
    "desc_column.show(5, truncate = False)"
   ]
  },
  {
   "cell_type": "markdown",
   "id": "2809fae0",
   "metadata": {},
   "source": [
    " b. Transform the `trans` column so that it only contains either `manual` or `auto`."
   ]
  },
  {
   "cell_type": "code",
   "execution_count": 12,
   "id": "2846a66d",
   "metadata": {
    "scrolled": false
   },
   "outputs": [
    {
     "name": "stdout",
     "output_type": "stream",
     "text": [
      "+----------+---------------------------------+\n",
      "|     trans|regexp_replace(trans, \\(.+$, , 1)|\n",
      "+----------+---------------------------------+\n",
      "|  auto(l5)|                             auto|\n",
      "|manual(m5)|                           manual|\n",
      "|manual(m6)|                           manual|\n",
      "|  auto(av)|                             auto|\n",
      "|  auto(l5)|                             auto|\n",
      "|manual(m5)|                           manual|\n",
      "|  auto(av)|                             auto|\n",
      "|manual(m5)|                           manual|\n",
      "|  auto(l5)|                             auto|\n",
      "|manual(m6)|                           manual|\n",
      "|  auto(s6)|                             auto|\n",
      "|  auto(l5)|                             auto|\n",
      "|manual(m5)|                           manual|\n",
      "|  auto(s6)|                             auto|\n",
      "|manual(m6)|                           manual|\n",
      "|  auto(l5)|                             auto|\n",
      "|  auto(s6)|                             auto|\n",
      "|  auto(s6)|                             auto|\n",
      "|  auto(l4)|                             auto|\n",
      "|  auto(l4)|                             auto|\n",
      "+----------+---------------------------------+\n",
      "only showing top 20 rows\n",
      "\n"
     ]
    }
   ],
   "source": [
    "mpg.select('trans', regexp_replace('trans', r\"\\(.+$\", \"\")).show()"
   ]
  },
  {
   "cell_type": "code",
   "execution_count": null,
   "id": "04035261",
   "metadata": {},
   "outputs": [],
   "source": []
  },
  {
   "cell_type": "markdown",
   "id": "e9a9b2db",
   "metadata": {},
   "source": [
    "3. Load the `tips` dataset as a spark dataframe.\n",
    "\n",
    " a. What percentage of observations are smokers?"
   ]
  },
  {
   "cell_type": "code",
   "execution_count": 13,
   "id": "9f52b2e6",
   "metadata": {},
   "outputs": [
    {
     "name": "stdout",
     "output_type": "stream",
     "text": [
      "+----------+----+------+------+---+------+----+\n",
      "|total_bill| tip|   sex|smoker|day|  time|size|\n",
      "+----------+----+------+------+---+------+----+\n",
      "|     16.99|1.01|Female|    No|Sun|Dinner|   2|\n",
      "|     10.34|1.66|  Male|    No|Sun|Dinner|   3|\n",
      "|     21.01| 3.5|  Male|    No|Sun|Dinner|   3|\n",
      "|     23.68|3.31|  Male|    No|Sun|Dinner|   2|\n",
      "|     24.59|3.61|Female|    No|Sun|Dinner|   4|\n",
      "+----------+----+------+------+---+------+----+\n",
      "only showing top 5 rows\n",
      "\n"
     ]
    }
   ],
   "source": [
    "from pydataset import data\n",
    "\n",
    "tips = spark.createDataFrame(data(\"tips\"))\n",
    "tips.show(5)"
   ]
  },
  {
   "cell_type": "code",
   "execution_count": 14,
   "id": "e8daaba6",
   "metadata": {},
   "outputs": [
    {
     "name": "stdout",
     "output_type": "stream",
     "text": [
      "DataFrame shape:  244  x  7\n"
     ]
    }
   ],
   "source": [
    "print('DataFrame shape: ', tips.count(), ' x ', len(tips.columns))"
   ]
  },
  {
   "cell_type": "code",
   "execution_count": 15,
   "id": "08203ba3",
   "metadata": {},
   "outputs": [
    {
     "name": "stdout",
     "output_type": "stream",
     "text": [
      "+------+-----+----------+\n",
      "|smoker|count|percentage|\n",
      "+------+-----+----------+\n",
      "|    No|  151|   61.89 %|\n",
      "|   Yes|   93|   38.11 %|\n",
      "+------+-----+----------+\n",
      "\n"
     ]
    }
   ],
   "source": [
    "(tips\n",
    " .groupBy(tips.smoker)\n",
    " .count()\n",
    " .withColumn('percentage', \n",
    "    concat(round(col('count') / tips.count() * 100, \n",
    "    2), \n",
    "    lit(' %'))).show())"
   ]
  },
  {
   "cell_type": "markdown",
   "id": "0405da1b",
   "metadata": {},
   "source": [
    " b. Create a column that contains the tip percentage\n"
   ]
  },
  {
   "cell_type": "code",
   "execution_count": 16,
   "id": "df95e1e8",
   "metadata": {
    "scrolled": false
   },
   "outputs": [
    {
     "name": "stdout",
     "output_type": "stream",
     "text": [
      "+----------+----+------+------+---+------+----+--------------+\n",
      "|total_bill| tip|   sex|smoker|day|  time|size|tip_percentage|\n",
      "+----------+----+------+------+---+------+----+--------------+\n",
      "|     16.99|1.01|Female|    No|Sun|Dinner|   2|        5.94 %|\n",
      "|     10.34|1.66|  Male|    No|Sun|Dinner|   3|       16.05 %|\n",
      "|     21.01| 3.5|  Male|    No|Sun|Dinner|   3|       16.66 %|\n",
      "|     23.68|3.31|  Male|    No|Sun|Dinner|   2|       13.98 %|\n",
      "|     24.59|3.61|Female|    No|Sun|Dinner|   4|       14.68 %|\n",
      "|     25.29|4.71|  Male|    No|Sun|Dinner|   4|       18.62 %|\n",
      "|      8.77| 2.0|  Male|    No|Sun|Dinner|   2|       22.81 %|\n",
      "|     26.88|3.12|  Male|    No|Sun|Dinner|   4|       11.61 %|\n",
      "|     15.04|1.96|  Male|    No|Sun|Dinner|   2|       13.03 %|\n",
      "|     14.78|3.23|  Male|    No|Sun|Dinner|   2|       21.85 %|\n",
      "|     10.27|1.71|  Male|    No|Sun|Dinner|   2|       16.65 %|\n",
      "|     35.26| 5.0|Female|    No|Sun|Dinner|   4|       14.18 %|\n",
      "|     15.42|1.57|  Male|    No|Sun|Dinner|   2|       10.18 %|\n",
      "|     18.43| 3.0|  Male|    No|Sun|Dinner|   4|       16.28 %|\n",
      "|     14.83|3.02|Female|    No|Sun|Dinner|   2|       20.36 %|\n",
      "|     21.58|3.92|  Male|    No|Sun|Dinner|   2|       18.16 %|\n",
      "|     10.33|1.67|Female|    No|Sun|Dinner|   3|       16.17 %|\n",
      "|     16.29|3.71|  Male|    No|Sun|Dinner|   3|       22.77 %|\n",
      "|     16.97| 3.5|Female|    No|Sun|Dinner|   3|       20.62 %|\n",
      "|     20.65|3.35|  Male|    No|Sat|Dinner|   3|       16.22 %|\n",
      "+----------+----+------+------+---+------+----+--------------+\n",
      "only showing top 20 rows\n",
      "\n"
     ]
    }
   ],
   "source": [
    "(tips\n",
    " .withColumn('tip_percentage', \n",
    "    concat(round(tips.tip / tips.total_bill * 100, \n",
    "    2), \n",
    "    lit(' %'))).show())"
   ]
  },
  {
   "cell_type": "markdown",
   "id": "2a4f22d7",
   "metadata": {},
   "source": [
    "\n",
    " c. Calculate the average tip percentage for each combination of sex and smoker."
   ]
  },
  {
   "cell_type": "code",
   "execution_count": 17,
   "id": "658a708a",
   "metadata": {},
   "outputs": [
    {
     "name": "stdout",
     "output_type": "stream",
     "text": [
      "+------+-----+-----+\n",
      "|   sex|   No|  Yes|\n",
      "+------+-----+-----+\n",
      "|Female|15.69|18.22|\n",
      "|  Male|16.07|15.28|\n",
      "+------+-----+-----+\n",
      "\n"
     ]
    }
   ],
   "source": [
    "(tips\n",
    " .withColumn('tip_percentage', \n",
    "    col('tip') / col('total_bill') * 100)\n",
    " .groupBy('sex')\n",
    " .pivot('smoker')\n",
    " .agg(round(mean('tip_percentage'), \n",
    "    2)).show())"
   ]
  },
  {
   "cell_type": "code",
   "execution_count": null,
   "id": "386d32ba",
   "metadata": {},
   "outputs": [],
   "source": []
  },
  {
   "cell_type": "markdown",
   "id": "60819b7a",
   "metadata": {},
   "source": [
    "4. Use the seattle weather dataset referenced in the lesson to answer the questions below.\n",
    "\n",
    " - Convert the temperatures to fahrenheit.\n"
   ]
  },
  {
   "cell_type": "code",
   "execution_count": 18,
   "id": "2faf7bc5",
   "metadata": {},
   "outputs": [
    {
     "name": "stdout",
     "output_type": "stream",
     "text": [
      "+----------+-------------+--------+--------+----+-------+\n",
      "|      date|precipitation|temp_max|temp_min|wind|weather|\n",
      "+----------+-------------+--------+--------+----+-------+\n",
      "|2012-01-01|          0.0|    12.8|     5.0| 4.7|drizzle|\n",
      "|2012-01-02|         10.9|    10.6|     2.8| 4.5|   rain|\n",
      "|2012-01-03|          0.8|    11.7|     7.2| 2.3|   rain|\n",
      "|2012-01-04|         20.3|    12.2|     5.6| 4.7|   rain|\n",
      "|2012-01-05|          1.3|     8.9|     2.8| 6.1|   rain|\n",
      "|2012-01-06|          2.5|     4.4|     2.2| 2.2|   rain|\n",
      "+----------+-------------+--------+--------+----+-------+\n",
      "only showing top 6 rows\n",
      "\n"
     ]
    }
   ],
   "source": [
    "from vega_datasets import data\n",
    "\n",
    "weather = data.seattle_weather().assign(date = lambda df: df.date.astype(str))\n",
    "weather = spark.createDataFrame(weather)\n",
    "weather.show(6)"
   ]
  },
  {
   "cell_type": "code",
   "execution_count": 19,
   "id": "6b298435",
   "metadata": {
    "scrolled": true
   },
   "outputs": [
    {
     "name": "stdout",
     "output_type": "stream",
     "text": [
      "+----------+----------+\n",
      "|temp_max_f|temp_min_f|\n",
      "+----------+----------+\n",
      "|     55.04|      41.0|\n",
      "|     51.08|     37.04|\n",
      "|     53.06|     44.96|\n",
      "|     53.96|     42.08|\n",
      "|     48.02|     37.04|\n",
      "+----------+----------+\n",
      "only showing top 5 rows\n",
      "\n"
     ]
    }
   ],
   "source": [
    "(weather\n",
    " .select(round((weather.temp_max * (9/5) + 32), \n",
    "    2)\n",
    " .alias('temp_max_f'), \n",
    "    round((weather.temp_min * (9/5) + 32), \n",
    "    2)\n",
    " .alias('temp_min_f')).show(5))"
   ]
  },
  {
   "cell_type": "markdown",
   "id": "979a8dc9",
   "metadata": {},
   "source": [
    " - Which month has the most rain, on average?\n",
    " "
   ]
  },
  {
   "cell_type": "code",
   "execution_count": 20,
   "id": "e0ab7831",
   "metadata": {
    "scrolled": true
   },
   "outputs": [
    {
     "name": "stdout",
     "output_type": "stream",
     "text": [
      "+-----+---------------------+\n",
      "|month|average_precipitation|\n",
      "+-----+---------------------+\n",
      "|   11|                 5.35|\n",
      "|   12|                 5.02|\n",
      "|    3|                 4.89|\n",
      "|   10|                 4.06|\n",
      "|    1|                 3.76|\n",
      "|    2|                 3.73|\n",
      "|    4|                 3.13|\n",
      "|    9|                 1.96|\n",
      "|    5|                 1.67|\n",
      "|    8|                 1.32|\n",
      "|    6|                 1.11|\n",
      "|    7|                 0.39|\n",
      "+-----+---------------------+\n",
      "\n"
     ]
    }
   ],
   "source": [
    "(weather\n",
    " .withColumn('month', \n",
    "    month('date'))\n",
    " .groupBy('month')\n",
    " .agg(round(avg('precipitation'), \n",
    "    2)\n",
    " .alias('average_precipitation'))\n",
    " .sort(desc('average_precipitation')).show())"
   ]
  },
  {
   "cell_type": "code",
   "execution_count": 30,
   "id": "1b0ca94b",
   "metadata": {},
   "outputs": [
    {
     "name": "stdout",
     "output_type": "stream",
     "text": [
      "+-----+---------------------+\n",
      "|month|average_precipitation|\n",
      "+-----+---------------------+\n",
      "|   11|               160.63|\n",
      "|   12|               155.68|\n",
      "|    3|               151.55|\n",
      "|   10|               125.85|\n",
      "|    1|                116.5|\n",
      "|    2|                105.5|\n",
      "|    4|                93.85|\n",
      "|    9|                58.87|\n",
      "|    5|                51.88|\n",
      "|    8|                40.93|\n",
      "|    6|                33.23|\n",
      "|    7|                12.05|\n",
      "+-----+---------------------+\n",
      "\n"
     ]
    }
   ],
   "source": [
    "(weather\n",
    " .withColumn('month', \n",
    "    month('date'))\n",
    " .groupBy('month')\n",
    " .agg(round(sum('precipitation') / 4, \n",
    "    2)\n",
    " .alias('average_precipitation'))\n",
    " .sort(desc('average_precipitation')).show())"
   ]
  },
  {
   "cell_type": "markdown",
   "id": "75b37ceb",
   "metadata": {},
   "source": [
    "- Which year was the windiest?\n"
   ]
  },
  {
   "cell_type": "code",
   "execution_count": 41,
   "id": "ddb2589d",
   "metadata": {},
   "outputs": [
    {
     "name": "stdout",
     "output_type": "stream",
     "text": [
      "+----+------------------+\n",
      "|year|average_wind_speed|\n",
      "+----+------------------+\n",
      "|2012|               3.4|\n",
      "|2014|              3.39|\n",
      "|2015|              3.16|\n",
      "|2013|              3.02|\n",
      "+----+------------------+\n",
      "\n"
     ]
    }
   ],
   "source": [
    "(weather\n",
    " .withColumn('year', \n",
    "    year('date'))\n",
    " .groupBy('year')\n",
    " .agg(round(avg('wind'), \n",
    "    2)\n",
    " .alias('average_wind_speed'))\n",
    " .sort(desc('average_wind_speed')).show())"
   ]
  },
  {
   "cell_type": "code",
   "execution_count": 42,
   "id": "32c3cef4",
   "metadata": {},
   "outputs": [
    {
     "name": "stdout",
     "output_type": "stream",
     "text": [
      "+----+---------------------+\n",
      "|year|cumulative_wind_speed|\n",
      "+----+---------------------+\n",
      "|2012|               1244.7|\n",
      "|2014|               1236.5|\n",
      "|2015|               1153.3|\n",
      "|2013|               1100.8|\n",
      "+----+---------------------+\n",
      "\n"
     ]
    }
   ],
   "source": [
    "(weather\n",
    " .withColumn('year', \n",
    "    year('date'))\n",
    " .groupBy('year')\n",
    " .agg(round(sum('wind'), \n",
    "    2)\n",
    " .alias('cumulative_wind_speed'))\n",
    " .sort(desc('cumulative_wind_speed')).show())"
   ]
  },
  {
   "cell_type": "markdown",
   "id": "524ab13e",
   "metadata": {},
   "source": [
    " - What is the most frequent type of weather in January?\n"
   ]
  },
  {
   "cell_type": "code",
   "execution_count": 22,
   "id": "2d1d07a4",
   "metadata": {},
   "outputs": [
    {
     "name": "stdout",
     "output_type": "stream",
     "text": [
      "+-------+-----+\n",
      "|weather|count|\n",
      "+-------+-----+\n",
      "|    fog|   38|\n",
      "|   rain|   35|\n",
      "|    sun|   33|\n",
      "|drizzle|   10|\n",
      "|   snow|    8|\n",
      "+-------+-----+\n",
      "\n"
     ]
    }
   ],
   "source": [
    "(weather\n",
    " .withColumn('month', \n",
    "    month('date'))\n",
    " .filter(col('month') == 1)\n",
    " .groupBy('weather')\n",
    " .count()\n",
    " .sort(col('count')\n",
    " .desc()).show())"
   ]
  },
  {
   "cell_type": "markdown",
   "id": "91905d33",
   "metadata": {},
   "source": [
    " - What is the average high and low temperature on sunny days in July in 2013 and 2014?\n",
    " "
   ]
  },
  {
   "cell_type": "code",
   "execution_count": 23,
   "id": "a4270c79",
   "metadata": {},
   "outputs": [
    {
     "name": "stdout",
     "output_type": "stream",
     "text": [
      "+----------------+----------------+\n",
      "|average_max_temp|average_min_temp|\n",
      "+----------------+----------------+\n",
      "|           26.83|           14.18|\n",
      "+----------------+----------------+\n",
      "\n"
     ]
    }
   ],
   "source": [
    "(weather\n",
    " .filter(month('date') == 7)\n",
    " .filter(year('date') > 2012)\n",
    " .filter(year('date') < 2015)\n",
    " .filter(col('weather') == lit('sun'))\n",
    " .agg(round(avg('temp_max'), \n",
    "    2).alias('average_max_temp'), \n",
    "    round(avg('temp_min'), \n",
    "    2).alias('average_min_temp')).show())"
   ]
  },
  {
   "cell_type": "markdown",
   "id": "ca0e07b3",
   "metadata": {},
   "source": [
    " - What percentage of days were rainy in q3 of 2015?\n",
    " "
   ]
  },
  {
   "cell_type": "code",
   "execution_count": 36,
   "id": "471686f0",
   "metadata": {},
   "outputs": [
    {
     "name": "stdout",
     "output_type": "stream",
     "text": [
      "+----------------------+\n",
      "|Rainy Day % in Q3 2015|\n",
      "+----------------------+\n",
      "|                  2.17|\n",
      "+----------------------+\n",
      "\n"
     ]
    }
   ],
   "source": [
    "(weather\n",
    " .filter(year('date') == 2015)\n",
    " .filter(quarter('date') == 3)\n",
    " .select(when(col('weather') == 'rain', \n",
    "    1)\n",
    " .otherwise(0)\n",
    " .alias('rain'))\n",
    " .agg(round((avg('rain') * 100), \n",
    "    2)\n",
    " .alias('Rainy Day % in Q3 2015')).show())"
   ]
  },
  {
   "cell_type": "markdown",
   "id": "9d9e5bc7",
   "metadata": {},
   "source": [
    "- For each year, find what percentage of days it rained (had non-zero precipitation)."
   ]
  },
  {
   "cell_type": "code",
   "execution_count": 25,
   "id": "a07ecf05",
   "metadata": {},
   "outputs": [
    {
     "name": "stdout",
     "output_type": "stream",
     "text": [
      "+----+--------------------------------+\n",
      "|year|Percentage of Rainy Days By Year|\n",
      "+----+--------------------------------+\n",
      "|2012|                           48.36|\n",
      "|2013|                           41.64|\n",
      "|2014|              41.099999999999994|\n",
      "|2015|                           39.45|\n",
      "+----+--------------------------------+\n",
      "\n"
     ]
    }
   ],
   "source": [
    "(weather\n",
    " .withColumn('year', \n",
    "    year('date'))\n",
    " .select(when(col('precipitation') > 0, \n",
    "    1).otherwise(0)\n",
    " .alias('rain'), \n",
    "    'year')\n",
    " .groupBy('year')\n",
    " .agg((round(avg('rain'), \n",
    "    4) * 100)\n",
    " .alias('Percentage of Rainy Days By Year')).show())\n"
   ]
  },
  {
   "cell_type": "code",
   "execution_count": null,
   "id": "cd6eb2f9",
   "metadata": {},
   "outputs": [],
   "source": []
  }
 ],
 "metadata": {
  "kernelspec": {
   "display_name": "Python 3 (ipykernel)",
   "language": "python",
   "name": "python3"
  },
  "language_info": {
   "codemirror_mode": {
    "name": "ipython",
    "version": 3
   },
   "file_extension": ".py",
   "mimetype": "text/x-python",
   "name": "python",
   "nbconvert_exporter": "python",
   "pygments_lexer": "ipython3",
   "version": "3.7.3"
  }
 },
 "nbformat": 4,
 "nbformat_minor": 5
}

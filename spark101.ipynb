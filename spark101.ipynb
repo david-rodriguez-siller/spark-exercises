{
 "cells": [
  {
   "cell_type": "markdown",
   "id": "0d60fb66",
   "metadata": {},
   "source": [
    "### Spark Exercises\n",
    "\n",
    "Within your `codeup-data-science` directory, create a new repo named `spark-exercises`. This will be where you do your work for this module. Create a repository on GitHub with the same name, and link your local repository to GitHub.\n",
    "\n",
    "Save this work in your `spark-exercises` repo. Then add, commit, and push your changes.\n",
    "\n",
    "Create a jupyter notebook or python script named `spark101` for this exercise."
   ]
  },
  {
   "cell_type": "code",
   "execution_count": 127,
   "id": "0432deac",
   "metadata": {},
   "outputs": [],
   "source": [
    "import pyspark\n",
    "import pandas as pd\n",
    "import numpy as np\n",
    "from pydataset import data\n",
    "from pyspark.sql.functions import col, expr\n",
    "#from pyspark.sql.functions import concat, su, avg, min, max, count, mean\n",
    "from pyspark.sql.functions import lit\n",
    "from pyspark.sql.functions import regexp_extract, regexp_replace\n",
    "from pyspark.sql.functions import when\n",
    "from pyspark.sql.functions import asc, desc\n",
    "from pyspark.sql.functions import month, year, quarter\n",
    "from pyspark.sql.functions import *\n",
    "from vega_datasets import data\n"
   ]
  },
  {
   "cell_type": "markdown",
   "id": "80cd6ea5",
   "metadata": {},
   "source": [
    "1. Create a spark data frame that contains your favorite programming languages.\n",
    "\n",
    "    - The name of the column should be `language`\n",
    "    - View the schema of the dataframe\n",
    "    - Output the shape of the dataframe\n",
    "    - Show the first 5 records in the dataframe"
   ]
  },
  {
   "cell_type": "code",
   "execution_count": 4,
   "id": "28fbecc6",
   "metadata": {},
   "outputs": [
    {
     "name": "stderr",
     "output_type": "stream",
     "text": [
      "WARNING: An illegal reflective access operation has occurred\n",
      "WARNING: Illegal reflective access by org.apache.spark.unsafe.Platform (file:/Users/davidrodriguez/anaconda3/lib/python3.7/site-packages/pyspark/jars/spark-unsafe_2.12-3.2.1.jar) to constructor java.nio.DirectByteBuffer(long,int)\n",
      "WARNING: Please consider reporting this to the maintainers of org.apache.spark.unsafe.Platform\n",
      "WARNING: Use --illegal-access=warn to enable warnings of further illegal reflective access operations\n",
      "WARNING: All illegal access operations will be denied in a future release\n",
      "Using Spark's default log4j profile: org/apache/spark/log4j-defaults.properties\n",
      "Setting default log level to \"WARN\".\n",
      "To adjust logging level use sc.setLogLevel(newLevel). For SparkR, use setLogLevel(newLevel).\n",
      "22/02/11 13:48:12 WARN NativeCodeLoader: Unable to load native-hadoop library for your platform... using builtin-java classes where applicable\n",
      "22/02/11 13:48:13 WARN Utils: Service 'SparkUI' could not bind on port 4040. Attempting port 4041.\n"
     ]
    },
    {
     "data": {
      "text/plain": [
       "DataFrame[language: string]"
      ]
     },
     "execution_count": 4,
     "metadata": {},
     "output_type": "execute_result"
    }
   ],
   "source": [
    "np.random.seed(456)\n",
    "\n",
    "pl_df = pd.DataFrame(np.random.choice(['python', 'sql', 'java', 'c', 'r'], 20))\n",
    "pl_df.columns = ['language']\n",
    "spark = pyspark.sql.SparkSession.builder.getOrCreate()\n",
    "df = spark.createDataFrame(pl_df)\n",
    "df"
   ]
  },
  {
   "cell_type": "code",
   "execution_count": 6,
   "id": "ad71cb19",
   "metadata": {},
   "outputs": [
    {
     "name": "stdout",
     "output_type": "stream",
     "text": [
      "root\n",
      " |-- language: string (nullable = true)\n",
      "\n"
     ]
    }
   ],
   "source": [
    "df.printSchema()"
   ]
  },
  {
   "cell_type": "code",
   "execution_count": 8,
   "id": "045ec80c",
   "metadata": {},
   "outputs": [
    {
     "name": "stdout",
     "output_type": "stream",
     "text": [
      "DataFrame shape:  20  x  1\n"
     ]
    }
   ],
   "source": [
    "print('DataFrame shape: ', df.count(), ' x ', len(df.columns))"
   ]
  },
  {
   "cell_type": "code",
   "execution_count": 9,
   "id": "b9bd788b",
   "metadata": {},
   "outputs": [
    {
     "name": "stdout",
     "output_type": "stream",
     "text": [
      "+--------+\n",
      "|language|\n",
      "+--------+\n",
      "|       c|\n",
      "|       c|\n",
      "|     sql|\n",
      "|    java|\n",
      "|       r|\n",
      "+--------+\n",
      "only showing top 5 rows\n",
      "\n"
     ]
    }
   ],
   "source": [
    "df.show(5)"
   ]
  },
  {
   "cell_type": "code",
   "execution_count": null,
   "id": "5d2bb4bb",
   "metadata": {},
   "outputs": [],
   "source": []
  },
  {
   "cell_type": "markdown",
   "id": "80d65496",
   "metadata": {},
   "source": [
    "2. Load the `mpg` dataset as a spark dataframe.\n",
    "\n",
    "    a. For each vehicle, create 1 column of output that contains a message like the one below:\n",
    "    \n",
    "   > - The 1999 audi a4 has a 4 cylinder engine.\n",
    "   \n",
    "    b. Transform the `trans` column so that it only contains either `manual` or `auto`."
   ]
  },
  {
   "cell_type": "code",
   "execution_count": 10,
   "id": "d8512a54",
   "metadata": {},
   "outputs": [
    {
     "name": "stdout",
     "output_type": "stream",
     "text": [
      "+------------+-----+-----+----+---+----------+---+---+---+---+-------+\n",
      "|manufacturer|model|displ|year|cyl|     trans|drv|cty|hwy| fl|  class|\n",
      "+------------+-----+-----+----+---+----------+---+---+---+---+-------+\n",
      "|        audi|   a4|  1.8|1999|  4|  auto(l5)|  f| 18| 29|  p|compact|\n",
      "|        audi|   a4|  1.8|1999|  4|manual(m5)|  f| 21| 29|  p|compact|\n",
      "|        audi|   a4|  2.0|2008|  4|manual(m6)|  f| 20| 31|  p|compact|\n",
      "|        audi|   a4|  2.0|2008|  4|  auto(av)|  f| 21| 30|  p|compact|\n",
      "|        audi|   a4|  2.8|1999|  6|  auto(l5)|  f| 16| 26|  p|compact|\n",
      "+------------+-----+-----+----+---+----------+---+---+---+---+-------+\n",
      "only showing top 5 rows\n",
      "\n"
     ]
    }
   ],
   "source": [
    "mpg = spark.createDataFrame(data(\"mpg\"))\n",
    "mpg.show(5)"
   ]
  },
  {
   "cell_type": "code",
   "execution_count": 24,
   "id": "0b635e8b",
   "metadata": {},
   "outputs": [],
   "source": [
    "desc_column = mpg.select(concat(lit('The '),mpg.year, lit(' '), mpg.manufacturer, lit(' '), mpg.model, lit(' has a '), mpg.cyl, lit(' cylinder engine.')).alias('description'))"
   ]
  },
  {
   "cell_type": "code",
   "execution_count": 25,
   "id": "49f8e266",
   "metadata": {},
   "outputs": [
    {
     "name": "stdout",
     "output_type": "stream",
     "text": [
      "+-----------------------------------------+\n",
      "|description                              |\n",
      "+-----------------------------------------+\n",
      "|The 1999 audi a4 has a 4 cylinder engine.|\n",
      "|The 1999 audi a4 has a 4 cylinder engine.|\n",
      "|The 2008 audi a4 has a 4 cylinder engine.|\n",
      "|The 2008 audi a4 has a 4 cylinder engine.|\n",
      "|The 1999 audi a4 has a 6 cylinder engine.|\n",
      "+-----------------------------------------+\n",
      "only showing top 5 rows\n",
      "\n"
     ]
    }
   ],
   "source": [
    "desc_column.show(5, truncate = False)"
   ]
  },
  {
   "cell_type": "code",
   "execution_count": 30,
   "id": "6444fb67",
   "metadata": {},
   "outputs": [
    {
     "name": "stdout",
     "output_type": "stream",
     "text": [
      "+----------+---------------------------------+\n",
      "|     trans|regexp_replace(trans, \\(.+$, , 1)|\n",
      "+----------+---------------------------------+\n",
      "|  auto(l5)|                             auto|\n",
      "|manual(m5)|                           manual|\n",
      "|manual(m6)|                           manual|\n",
      "|  auto(av)|                             auto|\n",
      "|  auto(l5)|                             auto|\n",
      "|manual(m5)|                           manual|\n",
      "|  auto(av)|                             auto|\n",
      "|manual(m5)|                           manual|\n",
      "|  auto(l5)|                             auto|\n",
      "|manual(m6)|                           manual|\n",
      "|  auto(s6)|                             auto|\n",
      "|  auto(l5)|                             auto|\n",
      "|manual(m5)|                           manual|\n",
      "|  auto(s6)|                             auto|\n",
      "|manual(m6)|                           manual|\n",
      "|  auto(l5)|                             auto|\n",
      "|  auto(s6)|                             auto|\n",
      "|  auto(s6)|                             auto|\n",
      "|  auto(l4)|                             auto|\n",
      "|  auto(l4)|                             auto|\n",
      "+----------+---------------------------------+\n",
      "only showing top 20 rows\n",
      "\n"
     ]
    }
   ],
   "source": [
    "mpg.select('trans', regexp_replace('trans', r\"\\(.+$\", \"\")).show()"
   ]
  },
  {
   "cell_type": "code",
   "execution_count": null,
   "id": "1a240208",
   "metadata": {},
   "outputs": [],
   "source": []
  },
  {
   "cell_type": "markdown",
   "id": "97af3595",
   "metadata": {},
   "source": [
    "3. Load the `tips` dataset as a spark dataframe.\n",
    "\n",
    " a. What percentage of observations are smokers?\n",
    "\n",
    " b. Create a column that contains the tip percentage\n",
    "\n",
    " c. Calculate the average tip percentage for each combination of sex and smoker."
   ]
  },
  {
   "cell_type": "code",
   "execution_count": 32,
   "id": "9bddf1eb",
   "metadata": {},
   "outputs": [
    {
     "name": "stdout",
     "output_type": "stream",
     "text": [
      "+----------+----+------+------+---+------+----+\n",
      "|total_bill| tip|   sex|smoker|day|  time|size|\n",
      "+----------+----+------+------+---+------+----+\n",
      "|     16.99|1.01|Female|    No|Sun|Dinner|   2|\n",
      "|     10.34|1.66|  Male|    No|Sun|Dinner|   3|\n",
      "|     21.01| 3.5|  Male|    No|Sun|Dinner|   3|\n",
      "|     23.68|3.31|  Male|    No|Sun|Dinner|   2|\n",
      "|     24.59|3.61|Female|    No|Sun|Dinner|   4|\n",
      "+----------+----+------+------+---+------+----+\n",
      "only showing top 5 rows\n",
      "\n"
     ]
    }
   ],
   "source": [
    "tips = spark.createDataFrame(data(\"tips\"))\n",
    "tips.show(5)"
   ]
  },
  {
   "cell_type": "code",
   "execution_count": 33,
   "id": "f4cf24e5",
   "metadata": {},
   "outputs": [
    {
     "name": "stdout",
     "output_type": "stream",
     "text": [
      "DataFrame shape:  244  x  7\n"
     ]
    }
   ],
   "source": [
    "print('DataFrame shape: ', tips.count(), ' x ', len(tips.columns))"
   ]
  },
  {
   "cell_type": "code",
   "execution_count": 96,
   "id": "d3e516a7",
   "metadata": {},
   "outputs": [
    {
     "name": "stdout",
     "output_type": "stream",
     "text": [
      "+------+-----+----------+\n",
      "|smoker|count|percentage|\n",
      "+------+-----+----------+\n",
      "|    No|  151|   61.89 %|\n",
      "|   Yes|   93|   38.11 %|\n",
      "+------+-----+----------+\n",
      "\n"
     ]
    }
   ],
   "source": [
    "tips.groupBy(tips.smoker).count().withColumn('percentage', concat(round(col('count') / tips.count() * 100, 2), lit(' %'))).show()"
   ]
  },
  {
   "cell_type": "code",
   "execution_count": 97,
   "id": "b9abb569",
   "metadata": {},
   "outputs": [
    {
     "name": "stdout",
     "output_type": "stream",
     "text": [
      "+----------+----+------+------+---+------+----+--------------+\n",
      "|total_bill| tip|   sex|smoker|day|  time|size|tip_percentage|\n",
      "+----------+----+------+------+---+------+----+--------------+\n",
      "|     16.99|1.01|Female|    No|Sun|Dinner|   2|        5.94 %|\n",
      "|     10.34|1.66|  Male|    No|Sun|Dinner|   3|       16.05 %|\n",
      "|     21.01| 3.5|  Male|    No|Sun|Dinner|   3|       16.66 %|\n",
      "|     23.68|3.31|  Male|    No|Sun|Dinner|   2|       13.98 %|\n",
      "|     24.59|3.61|Female|    No|Sun|Dinner|   4|       14.68 %|\n",
      "|     25.29|4.71|  Male|    No|Sun|Dinner|   4|       18.62 %|\n",
      "|      8.77| 2.0|  Male|    No|Sun|Dinner|   2|       22.81 %|\n",
      "|     26.88|3.12|  Male|    No|Sun|Dinner|   4|       11.61 %|\n",
      "|     15.04|1.96|  Male|    No|Sun|Dinner|   2|       13.03 %|\n",
      "|     14.78|3.23|  Male|    No|Sun|Dinner|   2|       21.85 %|\n",
      "|     10.27|1.71|  Male|    No|Sun|Dinner|   2|       16.65 %|\n",
      "|     35.26| 5.0|Female|    No|Sun|Dinner|   4|       14.18 %|\n",
      "|     15.42|1.57|  Male|    No|Sun|Dinner|   2|       10.18 %|\n",
      "|     18.43| 3.0|  Male|    No|Sun|Dinner|   4|       16.28 %|\n",
      "|     14.83|3.02|Female|    No|Sun|Dinner|   2|       20.36 %|\n",
      "|     21.58|3.92|  Male|    No|Sun|Dinner|   2|       18.16 %|\n",
      "|     10.33|1.67|Female|    No|Sun|Dinner|   3|       16.17 %|\n",
      "|     16.29|3.71|  Male|    No|Sun|Dinner|   3|       22.77 %|\n",
      "|     16.97| 3.5|Female|    No|Sun|Dinner|   3|       20.62 %|\n",
      "|     20.65|3.35|  Male|    No|Sat|Dinner|   3|       16.22 %|\n",
      "+----------+----+------+------+---+------+----+--------------+\n",
      "only showing top 20 rows\n",
      "\n"
     ]
    }
   ],
   "source": [
    "tips.withColumn('tip_percentage', concat(round(tips.tip / tips.total_bill * 100, 2), lit(' %'))).show()"
   ]
  },
  {
   "cell_type": "code",
   "execution_count": 109,
   "id": "8cf0b845",
   "metadata": {},
   "outputs": [
    {
     "name": "stdout",
     "output_type": "stream",
     "text": [
      "+------+------------------+-------------------+\n",
      "|   sex|                No|                Yes|\n",
      "+------+------------------+-------------------+\n",
      "|Female|0.1569209707691836|0.18215035269941035|\n",
      "|  Male|0.1606687151291298| 0.1527711752024851|\n",
      "+------+------------------+-------------------+\n",
      "\n"
     ]
    }
   ],
   "source": [
    "tips.withColumn('tip_percentage', col('tip') / col('total_bill')).groupBy('sex').pivot('smoker').agg(mean('tip_percentage')).show()"
   ]
  },
  {
   "cell_type": "code",
   "execution_count": 125,
   "id": "799c43df",
   "metadata": {},
   "outputs": [
    {
     "name": "stdout",
     "output_type": "stream",
     "text": [
      "+------+-----------------+------------------+\n",
      "|   sex|               No|               Yes|\n",
      "+------+-----------------+------------------+\n",
      "|Female|15.69209707691836| 18.21503526994103|\n",
      "|  Male|16.06687151291298|15.277117520248511|\n",
      "+------+-----------------+------------------+\n",
      "\n"
     ]
    }
   ],
   "source": [
    "tips.withColumn('tip_percentage', col('tip') / col('total_bill') * 100).groupBy('sex').pivot('smoker').agg(mean('tip_percentage')).show()"
   ]
  },
  {
   "cell_type": "code",
   "execution_count": null,
   "id": "01d86f18",
   "metadata": {},
   "outputs": [],
   "source": []
  },
  {
   "cell_type": "markdown",
   "id": "ff6627e6",
   "metadata": {},
   "source": [
    "4. Use the seattle weather dataset referenced in the lesson to answer the questions below.\n",
    "\n",
    " - Convert the temperatures to fahrenheit.\n",
    " - Which month has the most rain, on average?\n",
    " - Which year was the windiest?\n",
    " - What is the most frequent type of weather in January?\n",
    " - What is the average high and low temperature on sunny days in July in 2013 and 2014?\n",
    " - What percentage of days were rainy in q3 of 2015?\n",
    " - For each year, find what percentage of days it rained (had non-zero precipitation)."
   ]
  },
  {
   "cell_type": "code",
   "execution_count": 128,
   "id": "2ea4803d",
   "metadata": {},
   "outputs": [
    {
     "name": "stdout",
     "output_type": "stream",
     "text": [
      "+----------+-------------+--------+--------+----+-------+\n",
      "|      date|precipitation|temp_max|temp_min|wind|weather|\n",
      "+----------+-------------+--------+--------+----+-------+\n",
      "|2012-01-01|          0.0|    12.8|     5.0| 4.7|drizzle|\n",
      "|2012-01-02|         10.9|    10.6|     2.8| 4.5|   rain|\n",
      "|2012-01-03|          0.8|    11.7|     7.2| 2.3|   rain|\n",
      "|2012-01-04|         20.3|    12.2|     5.6| 4.7|   rain|\n",
      "|2012-01-05|          1.3|     8.9|     2.8| 6.1|   rain|\n",
      "|2012-01-06|          2.5|     4.4|     2.2| 2.2|   rain|\n",
      "+----------+-------------+--------+--------+----+-------+\n",
      "only showing top 6 rows\n",
      "\n"
     ]
    },
    {
     "name": "stderr",
     "output_type": "stream",
     "text": [
      "22/02/11 17:21:30 WARN HeartbeatReceiver: Removing executor driver with no recent heartbeats: 539493 ms exceeds timeout 120000 ms\n",
      "22/02/11 17:21:30 WARN SparkContext: Killing executors is not supported by current scheduler.\n"
     ]
    }
   ],
   "source": [
    "weather = data.seattle_weather().assign(date = lambda df: df.date.astype(str))\n",
    "weather = spark.createDataFrame(weather)\n",
    "weather.show(6)"
   ]
  },
  {
   "cell_type": "code",
   "execution_count": 134,
   "id": "b46e829d",
   "metadata": {},
   "outputs": [
    {
     "name": "stdout",
     "output_type": "stream",
     "text": [
      "+------------------+----------+\n",
      "|        temp_max_c|temp_min_c|\n",
      "+------------------+----------+\n",
      "|55.040000000000006|      41.0|\n",
      "|             51.08|     37.04|\n",
      "|             53.06|     44.96|\n",
      "|             53.96|     42.08|\n",
      "|48.019999999999996|     37.04|\n",
      "+------------------+----------+\n",
      "only showing top 5 rows\n",
      "\n"
     ]
    }
   ],
   "source": [
    "weather.select((weather.temp_max * (9/5) + 32).alias('temp_max_c'), (weather.temp_min * (9/5) + 32).alias('temp_min_c')).show(5)"
   ]
  },
  {
   "cell_type": "code",
   "execution_count": null,
   "id": "fa5576b9",
   "metadata": {},
   "outputs": [],
   "source": []
  },
  {
   "cell_type": "code",
   "execution_count": null,
   "id": "d708bf93",
   "metadata": {},
   "outputs": [],
   "source": []
  },
  {
   "cell_type": "code",
   "execution_count": null,
   "id": "820a5308",
   "metadata": {},
   "outputs": [],
   "source": [
    "#F = C(9/5) + 32"
   ]
  },
  {
   "cell_type": "code",
   "execution_count": null,
   "id": "1e6bc090",
   "metadata": {},
   "outputs": [],
   "source": []
  }
 ],
 "metadata": {
  "kernelspec": {
   "display_name": "Python 3 (ipykernel)",
   "language": "python",
   "name": "python3"
  },
  "language_info": {
   "codemirror_mode": {
    "name": "ipython",
    "version": 3
   },
   "file_extension": ".py",
   "mimetype": "text/x-python",
   "name": "python",
   "nbconvert_exporter": "python",
   "pygments_lexer": "ipython3",
   "version": "3.7.3"
  }
 },
 "nbformat": 4,
 "nbformat_minor": 5
}
